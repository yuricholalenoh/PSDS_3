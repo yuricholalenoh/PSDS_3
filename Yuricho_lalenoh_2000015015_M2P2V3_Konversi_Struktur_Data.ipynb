{
  "nbformat": 4,
  "nbformat_minor": 0,
  "metadata": {
    "colab": {
      "name": "Yuricho lalenoh_2000015015_M2P2V3_Konversi Struktur Data.ipynb",
      "provenance": [],
      "collapsed_sections": [],
      "authorship_tag": "ABX9TyOTMz1oRASWD2yTfJdxaabu",
      "include_colab_link": true
    },
    "kernelspec": {
      "name": "python3",
      "display_name": "Python 3"
    },
    "language_info": {
      "name": "python"
    }
  },
  "cells": [
    {
      "cell_type": "markdown",
      "metadata": {
        "id": "view-in-github",
        "colab_type": "text"
      },
      "source": [
        "<a href=\"https://colab.research.google.com/github/yuricholalenoh/PSDS_3/blob/main/Yuricho_lalenoh_2000015015_M2P2V3_Konversi_Struktur_Data.ipynb\" target=\"_parent\"><img src=\"https://colab.research.google.com/assets/colab-badge.svg\" alt=\"Open In Colab\"/></a>"
      ]
    },
    {
      "cell_type": "markdown",
      "metadata": {
        "id": "IsbtyIQogab0"
      },
      "source": [
        "###Konversi Struktur Data"
      ]
    },
    {
      "cell_type": "markdown",
      "metadata": {
        "id": "R33qJsssgwDi"
      },
      "source": [
        "Fungsi untuk mengubah/konversi struktur data\n",
        "\n",
        "a. `list()` : untuk mengubah menjadi list\n",
        "\n",
        "b. `tuple()` : untuk mengubah data menjadi tuple\n",
        " \n",
        "c. `set()` : untuk mengubah data menjadi set\n",
        "\n",
        "d. `dict()` : untuk mengubah data menjadi dictionary"
      ]
    },
    {
      "cell_type": "markdown",
      "metadata": {
        "id": "x_VM6nVOh2_D"
      },
      "source": [
        "###Mengkonversi tipe data list:"
      ]
    },
    {
      "cell_type": "code",
      "metadata": {
        "id": "Jvj0UqHIgNQk"
      },
      "source": [
        "#Membuat 2 list\n",
        "L1 = [1, 2, 3, 4]\n",
        "L2 = [5, 6, 7, 8]"
      ],
      "execution_count": 1,
      "outputs": []
    },
    {
      "cell_type": "code",
      "metadata": {
        "colab": {
          "base_uri": "https://localhost:8080/"
        },
        "id": "QbawykJKiMAq",
        "outputId": "0afc93cf-655b-4a0e-a759-ee74de717e91"
      },
      "source": [
        "#Mengkonversi struktur data list\n",
        "k_tuple = tuple(L1)\n",
        "k_set = set(L2)\n",
        "k_dict = dict(zip(L1, L2))\n",
        "# Melihat data yang telah dikonversi\n",
        "print(k_tuple)\n",
        "print(k_set)\n",
        "print(k_dict)"
      ],
      "execution_count": 3,
      "outputs": [
        {
          "output_type": "stream",
          "name": "stdout",
          "text": [
            "(1, 2, 3, 4)\n",
            "{8, 5, 6, 7}\n",
            "{1: 5, 2: 6, 3: 7, 4: 8}\n"
          ]
        }
      ]
    },
    {
      "cell_type": "markdown",
      "metadata": {
        "id": "tBlsRJmTi31F"
      },
      "source": [
        "###Mengkonversi tipe data tuple:"
      ]
    },
    {
      "cell_type": "code",
      "metadata": {
        "id": "-BdBfcgCi_8Y"
      },
      "source": [
        "# Membuat dua tuple\n",
        "T1 = (1, 2, 3, 4)\n",
        "T2 = (5, 6, 7, 8)"
      ],
      "execution_count": 4,
      "outputs": []
    },
    {
      "cell_type": "code",
      "metadata": {
        "colab": {
          "base_uri": "https://localhost:8080/"
        },
        "id": "jyUMPuANjM5o",
        "outputId": "c190d450-cc68-45cd-d5eb-b7869766f699"
      },
      "source": [
        "# Mengkonversi struktur data tuple\n",
        "k_list = list(T1)\n",
        "k_set = set(T2)\n",
        "k_dic = dict(zip(T1, T2))\n",
        "#Melihat data yang telah dikonversi\n",
        "print(k_list)\n",
        "print(k_set)\n",
        "print(k_dic)"
      ],
      "execution_count": 6,
      "outputs": [
        {
          "output_type": "stream",
          "name": "stdout",
          "text": [
            "[1, 2, 3, 4]\n",
            "{8, 5, 6, 7}\n",
            "{1: 5, 2: 6, 3: 7, 4: 8}\n"
          ]
        }
      ]
    },
    {
      "cell_type": "markdown",
      "metadata": {
        "id": "VyhV3H3Kj7hG"
      },
      "source": [
        "###Mengkonversi tipe data set:"
      ]
    },
    {
      "cell_type": "code",
      "metadata": {
        "id": "J4M7CCPykA9k"
      },
      "source": [
        "# Membuat dua set\n",
        "S1 = {1, 2, 3, 4}\n",
        "S2 = {5, 6, 7, 8}"
      ],
      "execution_count": 7,
      "outputs": []
    },
    {
      "cell_type": "code",
      "metadata": {
        "colab": {
          "base_uri": "https://localhost:8080/"
        },
        "id": "tpZo8spYkesB",
        "outputId": "fd42a45d-d68e-47c2-ed82-4afcff24a60f"
      },
      "source": [
        "# Mengkonversi struktur data set\n",
        "k_list = list(S1)\n",
        "k_tuple = tuple(S2)\n",
        "k_dict = dict(zip(S1,S2))\n",
        "#Melihat data yang telah dikonversi\n",
        "print(k_list)\n",
        "print(k_tuple)\n",
        "print(k_dict)"
      ],
      "execution_count": 8,
      "outputs": [
        {
          "output_type": "stream",
          "name": "stdout",
          "text": [
            "[1, 2, 3, 4]\n",
            "(8, 5, 6, 7)\n",
            "{1: 8, 2: 5, 3: 6, 4: 7}\n"
          ]
        }
      ]
    },
    {
      "cell_type": "markdown",
      "metadata": {
        "id": "WjA49oKbk6sO"
      },
      "source": [
        "###Mengkonversi tipe data dictionary:"
      ]
    },
    {
      "cell_type": "code",
      "metadata": {
        "id": "L-dT47vkk-PR"
      },
      "source": [
        "# Membuat dictionary\n",
        "D = {\n",
        "    \"nama\": \"Andi\",\n",
        "     \"alamat\": \"Yogyakarta\",\n",
        "     \"umur\": 20\n",
        "}"
      ],
      "execution_count": 9,
      "outputs": []
    },
    {
      "cell_type": "code",
      "metadata": {
        "colab": {
          "base_uri": "https://localhost:8080/"
        },
        "id": "BTKnQ5jVlZnE",
        "outputId": "419bcd5b-c38c-41e3-9321-5a97f451eead"
      },
      "source": [
        "# Mengkonversi struktur data dictionary dari key dan value-nya\n",
        "k_list = list(D.keys())\n",
        "k_tuple = tuple(D.values())\n",
        "k_set = set(D.keys())\n",
        "#Melihat data yang  telah dikonversi\n",
        "print(k_list)\n",
        "print(k_tuple)\n",
        "print(k_set)"
      ],
      "execution_count": 10,
      "outputs": [
        {
          "output_type": "stream",
          "name": "stdout",
          "text": [
            "['nama', 'alamat', 'umur']\n",
            "('Andi', 'Yogyakarta', 20)\n",
            "{'nama', 'alamat', 'umur'}\n"
          ]
        }
      ]
    },
    {
      "cell_type": "markdown",
      "metadata": {
        "id": "QxdAov-Ll--b"
      },
      "source": [
        "###Latihan"
      ]
    },
    {
      "cell_type": "code",
      "metadata": {
        "id": "TwghOblymAqB"
      },
      "source": [
        "# Lakukan konversi struktur data yang kalian buat pada notebook-notebook\n",
        "#sebelumnya menjadi list, tuple, set, dan dictionary (masing-masing satu)"
      ],
      "execution_count": 11,
      "outputs": []
    },
    {
      "cell_type": "code",
      "metadata": {
        "colab": {
          "base_uri": "https://localhost:8080/"
        },
        "id": "KqXdarfdm58h",
        "outputId": "266270b9-d00b-4127-fc5c-ec600d7b7ba3"
      },
      "source": [
        "#Koversi tipe data list\n",
        "A = ['matematika', 'fisika', 'kimia', 'biologi']\n",
        "B =[ 6, 7, 8, 9]\n",
        "\n",
        "#konversi menjadi data lain\n",
        "data_tuple = tuple(A)\n",
        "data_set = set(B)\n",
        "data_dict = dict(zip(A,B))\n",
        "#melihat hasil data baru\n",
        "print(data_tuple)\n",
        "print(data_set)\n",
        "print(data_dict)"
      ],
      "execution_count": 14,
      "outputs": [
        {
          "output_type": "stream",
          "name": "stdout",
          "text": [
            "('matematika', 'fisika', 'kimia', 'biologi')\n",
            "{8, 9, 6, 7}\n",
            "{'matematika': 6, 'fisika': 7, 'kimia': 8, 'biologi': 9}\n"
          ]
        }
      ]
    },
    {
      "cell_type": "code",
      "metadata": {
        "colab": {
          "base_uri": "https://localhost:8080/"
        },
        "id": "6Ns7t8_VoWGe",
        "outputId": "636ff523-ad3f-406f-bd70-ae0cfcd4510c"
      },
      "source": [
        "#Konversi tipe data tuple\n",
        "A = ('matematika', 'fisika', 'kimia', 'biologi')\n",
        "B = (6, 7, 8, 9)\n",
        "\n",
        "#konversi menjadi data lain\n",
        "data_list = list(A)\n",
        "data_set = set(B)\n",
        "data_dict = dict(zip(A,B))\n",
        "#melihat hasil data baru\n",
        "print(data_list)\n",
        "print(data_set)\n",
        "print(data_dict)"
      ],
      "execution_count": 16,
      "outputs": [
        {
          "output_type": "stream",
          "name": "stdout",
          "text": [
            "['matematika', 'fisika', 'kimia', 'biologi']\n",
            "{8, 9, 6, 7}\n",
            "{'matematika': 6, 'fisika': 7, 'kimia': 8, 'biologi': 9}\n"
          ]
        }
      ]
    },
    {
      "cell_type": "code",
      "metadata": {
        "colab": {
          "base_uri": "https://localhost:8080/"
        },
        "id": "sng3jliDpX6G",
        "outputId": "6536e2ed-4303-4ae6-e5b4-b77c1125c403"
      },
      "source": [
        "#Konversi tipe data set\n",
        "A = {'matematika', 'fisika', 'kimia', 'biologi'}\n",
        "B = {6, 7, 8, 9}\n",
        "\n",
        "#konversi menjadi data lain\n",
        "data_list = list(A)\n",
        "data_tuple = tuple(B)\n",
        "data_dict = dict(zip(A,B))\n",
        "#melihat hasil data baru\n",
        "print(data_list)\n",
        "print(data_tuple)\n",
        "print(data_dict)"
      ],
      "execution_count": 18,
      "outputs": [
        {
          "output_type": "stream",
          "name": "stdout",
          "text": [
            "['kimia', 'biologi', 'matematika', 'fisika']\n",
            "(8, 9, 6, 7)\n",
            "{'kimia': 8, 'biologi': 9, 'matematika': 6, 'fisika': 7}\n"
          ]
        }
      ]
    },
    {
      "cell_type": "code",
      "metadata": {
        "colab": {
          "base_uri": "https://localhost:8080/"
        },
        "id": "aDjKgGyNqOBO",
        "outputId": "e45ae31e-3746-474f-8126-4ee9bd3a214c"
      },
      "source": [
        "#Konversi tipe data dictionary\n",
        "A = {'matematika':6, 'fisika':7, 'kimia':8, 'biologi':9}\n",
        "#konversi menjadi data lain\n",
        "data_list = list(A.keys())\n",
        "data_tuple = tuple(A.values())\n",
        "data_set = set(A.keys())\n",
        "#melihat hasil data baru\n",
        "print(data_list)\n",
        "print(data_tuple)\n",
        "print(data_set)"
      ],
      "execution_count": 21,
      "outputs": [
        {
          "output_type": "stream",
          "name": "stdout",
          "text": [
            "['matematika', 'fisika', 'kimia', 'biologi']\n",
            "(6, 7, 8, 9)\n",
            "{'kimia', 'biologi', 'matematika', 'fisika'}\n"
          ]
        }
      ]
    }
  ]
}