{
  "nbformat": 4,
  "nbformat_minor": 0,
  "metadata": {
    "colab": {
      "name": "M4P1V4_Penggabungan_DataFrame_Yuricho Lalenoh_2000015015.ipynb",
      "provenance": [],
      "collapsed_sections": [],
      "authorship_tag": "ABX9TyOylVYe7agpOpGSG+NViVCT",
      "include_colab_link": true
    },
    "kernelspec": {
      "name": "python3",
      "display_name": "Python 3"
    },
    "language_info": {
      "name": "python"
    }
  },
  "cells": [
    {
      "cell_type": "markdown",
      "metadata": {
        "id": "view-in-github",
        "colab_type": "text"
      },
      "source": [
        "<a href=\"https://colab.research.google.com/github/yuricholalenoh/PSDS_3/blob/main/M4P1V4_Penggabungan_DataFrame_Yuricho_Lalenoh_2000015015.ipynb\" target=\"_parent\"><img src=\"https://colab.research.google.com/assets/colab-badge.svg\" alt=\"Open In Colab\"/></a>"
      ]
    },
    {
      "cell_type": "markdown",
      "metadata": {
        "id": "MhrbSyOo9Bcj"
      },
      "source": [
        "# Penggabungan Series/Dataframe"
      ]
    },
    {
      "cell_type": "markdown",
      "metadata": {
        "id": "8A5ohMmq9ERo"
      },
      "source": [
        "Terdapat beberapa metode untuk menggabungkan Series/Dataframe di Pandas, yaitu:\n",
        "\n",
        "1. append\n",
        "2. concat\n",
        "3. merge\n",
        "4. join"
      ]
    },
    {
      "cell_type": "markdown",
      "metadata": {
        "id": "6eXC17L89G50"
      },
      "source": [
        "# Import Library\n",
        "\n",
        "Import beberapa library berikut untuk digunakan di sepanjang notebook ini:"
      ]
    },
    {
      "cell_type": "code",
      "metadata": {
        "id": "nVeoKI5W87Ll"
      },
      "source": [
        "import pandas as pd"
      ],
      "execution_count": null,
      "outputs": []
    },
    {
      "cell_type": "markdown",
      "metadata": {
        "id": "ZlAmvfCR9MsZ"
      },
      "source": [
        "## Append\n",
        "Method **.append()** dapat digunakan pada dataframe/series yang ditujukan untuk menambah row-nya saja. "
      ]
    },
    {
      "cell_type": "code",
      "metadata": {
        "colab": {
          "base_uri": "https://localhost:8080/"
        },
        "id": "cBHZrXF59PM2",
        "outputId": "f95cc70a-3040-4cee-9166-07ce6c245eda"
      },
      "source": [
        "# Membuat series of int (s1) dan series of string (s2)\n",
        "s1 = pd.Series([1,2,3,4,5,6])\n",
        "s2 = pd.Series([\"a\",\"b\",\"c\",\"d\",\"e\",\"f\"])\n",
        "# Menerapkan method append\n",
        "s1_append_s2 = s1.append(s2)\n",
        "print(\"Series - append:\\n\", s1_append_s2)"
      ],
      "execution_count": null,
      "outputs": [
        {
          "output_type": "stream",
          "name": "stdout",
          "text": [
            "Series - append:\n",
            " 0    1\n",
            "1    2\n",
            "2    3\n",
            "3    4\n",
            "4    5\n",
            "5    6\n",
            "0    a\n",
            "1    b\n",
            "2    c\n",
            "3    d\n",
            "4    e\n",
            "5    f\n",
            "dtype: object\n"
          ]
        }
      ]
    },
    {
      "cell_type": "markdown",
      "metadata": {
        "id": "Mnnoy3De9Rz2"
      },
      "source": [
        "Untuk **Dataframe**"
      ]
    },
    {
      "cell_type": "code",
      "metadata": {
        "colab": {
          "base_uri": "https://localhost:8080/"
        },
        "id": "7cyeWjvV9T3M",
        "outputId": "c4971553-0dd1-4244-cee4-c8ff36efcb69"
      },
      "source": [
        "# Buat dataframe df1 dan df2\n",
        "df1 = pd.DataFrame({'a':[1,2],\n",
        "                    'b':[3,4]})\n",
        "print(\"df1:\\n\", df1)\n",
        "df2 = pd.DataFrame({'b':[1,2],\n",
        "                    'a':[3,4]})\n",
        "print(\"df2:\\n\", df2)\n",
        "# Terapkan method append\n",
        "df1_append_df2 = df1.append(df2)\n",
        "print(\"Dataframe - append:\\n\", df1_append_df2)"
      ],
      "execution_count": null,
      "outputs": [
        {
          "output_type": "stream",
          "name": "stdout",
          "text": [
            "df1:\n",
            "    a  b\n",
            "0  1  3\n",
            "1  2  4\n",
            "df2:\n",
            "    b  a\n",
            "0  1  3\n",
            "1  2  4\n",
            "Dataframe - append:\n",
            "    a  b\n",
            "0  1  3\n",
            "1  2  4\n",
            "0  3  1\n",
            "1  4  2\n"
          ]
        }
      ]
    },
    {
      "cell_type": "markdown",
      "metadata": {
        "id": "qlAeqgMz9V8_"
      },
      "source": [
        "##Concat\n",
        "\n",
        "Method **.concat()** dapat digunakan pada dataframe yang ditujukan untuk penggabungan baik dalam row-wise (dalam arah ) atau column-wise."
      ]
    },
    {
      "cell_type": "code",
      "metadata": {
        "colab": {
          "base_uri": "https://localhost:8080/"
        },
        "id": "MljC5Fqc9YSx",
        "outputId": "e4d4e3b7-3e2e-4987-d828-e147215dcd36"
      },
      "source": [
        "# Membuat dataframe df1 dan df2\n",
        "df1 = pd.DataFrame({'a':[1,2],\n",
        "                    'b':[3,4]})\n",
        "print(\"df1:\\n\", df1)\n",
        "df2 = pd.DataFrame({'b':[1,2],\n",
        "                    'a':[3,4]})\n",
        "print(\"df2:\\n\", df2)\n",
        "# Menerapkan method concat row-wise\n",
        "row_wise_concat = pd.concat([df1,df2])\n",
        "print(\"Row-wise - concat:\\n\", row_wise_concat)"
      ],
      "execution_count": null,
      "outputs": [
        {
          "output_type": "stream",
          "name": "stdout",
          "text": [
            "df1:\n",
            "    a  b\n",
            "0  1  3\n",
            "1  2  4\n",
            "df2:\n",
            "    b  a\n",
            "0  1  3\n",
            "1  2  4\n",
            "Row-wise - concat:\n",
            "    a  b\n",
            "0  1  3\n",
            "1  2  4\n",
            "0  3  1\n",
            "1  4  2\n"
          ]
        }
      ]
    },
    {
      "cell_type": "markdown",
      "metadata": {
        "id": "J8tC1e5J9arQ"
      },
      "source": [
        "Untuk penerapan concat pada **column-wise**"
      ]
    },
    {
      "cell_type": "code",
      "metadata": {
        "colab": {
          "base_uri": "https://localhost:8080/"
        },
        "id": "hbhN5t-i9n1a",
        "outputId": "13a17e52-e510-4cdc-d12b-f52d29256364"
      },
      "source": [
        "# Terapkan method concat column-wise\n",
        "col_wise_concat = pd.concat([df1, df2], axis=1)\n",
        "print(\"Column-wise - concat:\\n\", col_wise_concat)"
      ],
      "execution_count": null,
      "outputs": [
        {
          "output_type": "stream",
          "name": "stdout",
          "text": [
            "Column-wise - concat:\n",
            "    a  b  b  a\n",
            "0  1  3  1  3\n",
            "1  2  4  2  4\n"
          ]
        }
      ]
    },
    {
      "cell_type": "markdown",
      "metadata": {
        "id": "E3L5l_BW9sn6"
      },
      "source": [
        "Dapat juga menambahkan identifier dari dataframe untuk data yang ditambahkan"
      ]
    },
    {
      "cell_type": "code",
      "metadata": {
        "colab": {
          "base_uri": "https://localhost:8080/"
        },
        "id": "rO11e_th9tt2",
        "outputId": "cb3193b6-54c3-42e5-98d8-22fcb0921a5b"
      },
      "source": [
        "# Penambahan identifier --> membentuk hasil penggabungan multiindex\n",
        "multiindex_concat = pd.concat([df1,df2],axis=0,keys=['df1','df2'])\n",
        "print(\"Multiindex - concat:\\n\", multiindex_concat)"
      ],
      "execution_count": null,
      "outputs": [
        {
          "output_type": "stream",
          "name": "stdout",
          "text": [
            "Multiindex - concat:\n",
            "        a  b\n",
            "df1 0  1  3\n",
            "    1  2  4\n",
            "df2 0  3  1\n",
            "    1  4  2\n"
          ]
        }
      ]
    },
    {
      "cell_type": "markdown",
      "metadata": {
        "id": "HfvkGtlc9w6s"
      },
      "source": [
        "## Merge \n",
        "Method **.merge()** untuk menggabungkan Series/Dataframe yang bentuknya mirip dengan syntax join di SQL, specify left and right tables, join key dan how to join (left, right, inner, full outer)."
      ]
    },
    {
      "cell_type": "code",
      "metadata": {
        "colab": {
          "base_uri": "https://localhost:8080/"
        },
        "id": "wg70a4BX90Mh",
        "outputId": "7574a685-7cc6-467d-e5b6-c9c9d2ad6039"
      },
      "source": [
        "# Membuat dataframe df1 dan df2\n",
        "df1 = pd.DataFrame({\n",
        "   'key':['k1','k2','k3','k4','k5'],\n",
        "   'val1':[200, 500, 0, 500, 100],\n",
        "   'val2':[30, 50, 100, 20, 10]\n",
        "})\n",
        "print(\"df1:\\n\", df1)\n",
        "df2 = pd.DataFrame({\n",
        "   'key':['k1','k3','k5','k7','k10'],\n",
        "   'val3':[1,2,3,4,5],\n",
        "   'val4':[6,7,8,8,10]\n",
        "})\n",
        "print(\"df2:\\n\", df2)"
      ],
      "execution_count": null,
      "outputs": [
        {
          "output_type": "stream",
          "name": "stdout",
          "text": [
            "df1:\n",
            "   key  val1  val2\n",
            "0  k1   200    30\n",
            "1  k2   500    50\n",
            "2  k3     0   100\n",
            "3  k4   500    20\n",
            "4  k5   100    10\n",
            "df2:\n",
            "    key  val3  val4\n",
            "0   k1     1     6\n",
            "1   k3     2     7\n",
            "2   k5     3     8\n",
            "3   k7     4     8\n",
            "4  k10     5    10\n"
          ]
        }
      ]
    },
    {
      "cell_type": "markdown",
      "metadata": {
        "id": "emXaWehp92t0"
      },
      "source": [
        "pd.merge yang ekivalen dengan SQL **left join**"
      ]
    },
    {
      "cell_type": "code",
      "metadata": {
        "colab": {
          "base_uri": "https://localhost:8080/"
        },
        "id": "P-VCe-KR95JR",
        "outputId": "58c2d662-a331-405a-beeb-742a1b33421a"
      },
      "source": [
        "# Merge yang ekivalen dengan SQL left join\n",
        "merge_df_left = pd.merge(left=df1, right=df2, how='left', left_on='key',right_on='key')\n",
        "print('Merge - Left:\\n', merge_df_left)"
      ],
      "execution_count": null,
      "outputs": [
        {
          "output_type": "stream",
          "name": "stdout",
          "text": [
            "Merge - Left:\n",
            "   key  val1  val2  val3  val4\n",
            "0  k1   200    30   1.0   6.0\n",
            "1  k2   500    50   NaN   NaN\n",
            "2  k3     0   100   2.0   7.0\n",
            "3  k4   500    20   NaN   NaN\n",
            "4  k5   100    10   3.0   8.0\n"
          ]
        }
      ]
    },
    {
      "cell_type": "markdown",
      "metadata": {
        "id": "Bj8rSXn397K6"
      },
      "source": [
        "pd.merge yang ekivalen dengan SQL **right join**"
      ]
    },
    {
      "cell_type": "code",
      "metadata": {
        "colab": {
          "base_uri": "https://localhost:8080/"
        },
        "id": "BRV3g2Rs9-yM",
        "outputId": "66905be5-da09-425a-9d24-dbaee4ac6caa"
      },
      "source": [
        "# Merge yang ekivalen dengan SQL right join\n",
        "merge_df_right = pd.merge(left=df1, right=df2, how='right', left_on='key',right_on='key')\n",
        "print('Merge - Right:\\n', merge_df_right)"
      ],
      "execution_count": null,
      "outputs": [
        {
          "output_type": "stream",
          "name": "stdout",
          "text": [
            "Merge - Right:\n",
            "    key   val1   val2  val3  val4\n",
            "0   k1  200.0   30.0     1     6\n",
            "1   k3    0.0  100.0     2     7\n",
            "2   k5  100.0   10.0     3     8\n",
            "3   k7    NaN    NaN     4     8\n",
            "4  k10    NaN    NaN     5    10\n"
          ]
        }
      ]
    },
    {
      "cell_type": "markdown",
      "metadata": {
        "id": "jfzZMmH3-CzC"
      },
      "source": [
        "pd.merge yang ekivalen dengan SQL **inner join**"
      ]
    },
    {
      "cell_type": "code",
      "metadata": {
        "colab": {
          "base_uri": "https://localhost:8080/"
        },
        "id": "ns0IkWn3-Fnt",
        "outputId": "6339af9e-ec52-47f6-aa3a-2e66ea04c3fe"
      },
      "source": [
        "# Merge yang ekivalen dengan SQL inner join\n",
        "merge_df_inner = pd.merge(left=df1, right=df2, how='inner', left_on='key',right_on='key')\n",
        "print('Merge - Inner:\\n', merge_df_inner)"
      ],
      "execution_count": null,
      "outputs": [
        {
          "output_type": "stream",
          "name": "stdout",
          "text": [
            "Merge - Inner:\n",
            "   key  val1  val2  val3  val4\n",
            "0  k1   200    30     1     6\n",
            "1  k3     0   100     2     7\n",
            "2  k5   100    10     3     8\n"
          ]
        }
      ]
    },
    {
      "cell_type": "markdown",
      "metadata": {
        "id": "ENRVHAdr-H8O"
      },
      "source": [
        "pd.merge yang ekivalen dengan SQL **outer join**"
      ]
    },
    {
      "cell_type": "code",
      "metadata": {
        "colab": {
          "base_uri": "https://localhost:8080/"
        },
        "id": "3Jft5UCf-L1L",
        "outputId": "03433786-d7b1-4e3b-9b13-7bfd34a1ecf9"
      },
      "source": [
        "# Merge yang ekivalen dengan SQL outer join\n",
        "merge_df_outer = pd.merge(left=df1, right=df2, how='outer', left_on='key',right_on='key')\n",
        "print('Merge - Outer:\\n', merge_df_outer)"
      ],
      "execution_count": null,
      "outputs": [
        {
          "output_type": "stream",
          "name": "stdout",
          "text": [
            "Merge - Outer:\n",
            "    key   val1   val2  val3  val4\n",
            "0   k1  200.0   30.0   1.0   6.0\n",
            "1   k2  500.0   50.0   NaN   NaN\n",
            "2   k3    0.0  100.0   2.0   7.0\n",
            "3   k4  500.0   20.0   NaN   NaN\n",
            "4   k5  100.0   10.0   3.0   8.0\n",
            "5   k7    NaN    NaN   4.0   8.0\n",
            "6  k10    NaN    NaN   5.0  10.0\n"
          ]
        }
      ]
    },
    {
      "cell_type": "markdown",
      "metadata": {
        "id": "RjQZf7Ab-O75"
      },
      "source": [
        "Bagaimana jika salah satu dataframe atau keseluruhan dataframe yang akan digabungkan tersebut memiliki multiindex?"
      ]
    },
    {
      "cell_type": "code",
      "metadata": {
        "colab": {
          "base_uri": "https://localhost:8080/"
        },
        "id": "ddHoehqY-Rxu",
        "outputId": "ffdd612b-079c-4a6a-e0a4-42f18e27e540"
      },
      "source": [
        "# Membuat dataframe df1 dan df2\n",
        "df1 = pd.DataFrame({\n",
        "   'key':['k1','k2','k3','k4','k5'],\n",
        "   'val1':[200, 500, 0, 500, 100],\n",
        "   'val2':[30, 50, 100, 20, 10]\n",
        "}).set_index(['key','val2'])\n",
        "print('Dataframe 1:\\n', df1)\n",
        "df2 = pd.DataFrame({\n",
        "   'key':['k1','k3','k5','k7','k10'],\n",
        "   'val3':[1,2,3,4,5],\n",
        "   'val4':[6,7,8,8,10]\n",
        "}).set_index(['key','val3'])\n",
        "print('Dataframe 2:\\n', df2)"
      ],
      "execution_count": null,
      "outputs": [
        {
          "output_type": "stream",
          "name": "stdout",
          "text": [
            "Dataframe 1:\n",
            "           val1\n",
            "key val2      \n",
            "k1  30     200\n",
            "k2  50     500\n",
            "k3  100      0\n",
            "k4  20     500\n",
            "k5  10     100\n",
            "Dataframe 2:\n",
            "           val4\n",
            "key val3      \n",
            "k1  1        6\n",
            "k3  2        7\n",
            "k5  3        8\n",
            "k7  4        8\n",
            "k10 5       10\n"
          ]
        }
      ]
    },
    {
      "cell_type": "markdown",
      "metadata": {
        "id": "xDusppQR-UeW"
      },
      "source": [
        "Jika digabungkan secara langsung seperti yang telah dilakukan pada bagian sebelumnya"
      ]
    },
    {
      "cell_type": "code",
      "metadata": {
        "id": "9ScyQ20w-Wrf"
      },
      "source": [
        "# Merge dataframe yang memiliki multi index\n",
        "# df_merge = pd.merge(df1,df2)\n",
        "# print('Merging dataframe:\\n', df_merge)"
      ],
      "execution_count": null,
      "outputs": []
    },
    {
      "cell_type": "code",
      "metadata": {
        "colab": {
          "base_uri": "https://localhost:8080/"
        },
        "id": "HWmaPxru-Y95",
        "outputId": "57459f98-1142-4756-daa0-f1302207f15a"
      },
      "source": [
        "# Merge dataframe yang memiliki multi index\n",
        "df_merge = pd.merge(df1.reset_index(),df2.reset_index())\n",
        "print('Merging dataframe:\\n', df_merge)"
      ],
      "execution_count": null,
      "outputs": [
        {
          "output_type": "stream",
          "name": "stdout",
          "text": [
            "Merging dataframe:\n",
            "   key  val2  val1  val3  val4\n",
            "0  k1    30   200     1     6\n",
            "1  k3   100     0     2     7\n",
            "2  k5    10   100     3     8\n"
          ]
        }
      ]
    },
    {
      "cell_type": "markdown",
      "metadata": {
        "id": "Y-w6L0du-bfi"
      },
      "source": [
        "## Join\n",
        "Metthod **.join()** digunakan pada dataframe untuk menggabungkan kedua data dengan set index pada kedua tabel tersebut sebagai join key, tanpa index, hal ini tidak akan berhasil.\n"
      ]
    },
    {
      "cell_type": "code",
      "metadata": {
        "id": "G0wnenIT-eME"
      },
      "source": [
        "# Buat dataframe df1 dan df2\n",
        "df1 = pd.DataFrame({\n",
        "   'key':['k1','k2','k3','k4','k5'],\n",
        "   'val1':[200, 500, 0, 500, 100],\n",
        "   'val2':[30, 50, 100, 20, 10]\n",
        "})\n",
        "df2 = pd.DataFrame({\n",
        "   'key':['k1','k3','k5','k7','k10'],\n",
        "   'val3':[1,2,3,4,5],\n",
        "   'val4':[6,7,8,8,10]\n",
        "})\n",
        "# Penerapan join dengan menggunakan set_index dan keyword how\n",
        "# df1.join(df2) #<-- akan error"
      ],
      "execution_count": null,
      "outputs": []
    },
    {
      "cell_type": "code",
      "metadata": {
        "colab": {
          "base_uri": "https://localhost:8080/"
        },
        "id": "dZrnpsXZ-hNi",
        "outputId": "8ecef972-c952-4c5c-f639-55211c0c0028"
      },
      "source": [
        "print(df1.set_index('key').join(df2.set_index('key')))"
      ],
      "execution_count": null,
      "outputs": [
        {
          "output_type": "stream",
          "name": "stdout",
          "text": [
            "     val1  val2  val3  val4\n",
            "key                        \n",
            "k1    200    30   1.0   6.0\n",
            "k2    500    50   NaN   NaN\n",
            "k3      0   100   2.0   7.0\n",
            "k4    500    20   NaN   NaN\n",
            "k5    100    10   3.0   8.0\n"
          ]
        }
      ]
    },
    {
      "cell_type": "markdown",
      "metadata": {
        "id": "IkZg4pp6-lFS"
      },
      "source": [
        "Untuk tipe join yang lain (contoh=inner), harus menspecify keyword how='inner' seperti yang dicontohkan berikut ini"
      ]
    },
    {
      "cell_type": "code",
      "metadata": {
        "colab": {
          "base_uri": "https://localhost:8080/"
        },
        "id": "_yPi-aeW-mgq",
        "outputId": "420ca638-391c-4a3f-97bf-41e12e639f41"
      },
      "source": [
        "join_df = df1.set_index('key').join(df2.set_index('key'), how='inner')\n",
        "print(join_df)"
      ],
      "execution_count": null,
      "outputs": [
        {
          "output_type": "stream",
          "name": "stdout",
          "text": [
            "     val1  val2  val3  val4\n",
            "key                        \n",
            "k1    200    30     1     6\n",
            "k3      0   100     2     7\n",
            "k5    100    10     3     8\n"
          ]
        }
      ]
    }
  ]
}