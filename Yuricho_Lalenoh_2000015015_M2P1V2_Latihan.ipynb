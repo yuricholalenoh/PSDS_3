{
  "nbformat": 4,
  "nbformat_minor": 0,
  "metadata": {
    "colab": {
      "name": "Yuricho Lalenoh_2000015015_M2P1V2_Latihan.ipynb",
      "provenance": [],
      "collapsed_sections": [],
      "authorship_tag": "ABX9TyMSwymICwOkuqmThVbyGuiy",
      "include_colab_link": true
    },
    "kernelspec": {
      "name": "python3",
      "display_name": "Python 3"
    },
    "language_info": {
      "name": "python"
    }
  },
  "cells": [
    {
      "cell_type": "markdown",
      "metadata": {
        "id": "view-in-github",
        "colab_type": "text"
      },
      "source": [
        "<a href=\"https://colab.research.google.com/github/yuricholalenoh/PSDS_3/blob/main/Yuricho_Lalenoh_2000015015_M2P1V2_Latihan.ipynb\" target=\"_parent\"><img src=\"https://colab.research.google.com/assets/colab-badge.svg\" alt=\"Open In Colab\"/></a>"
      ]
    },
    {
      "cell_type": "markdown",
      "metadata": {
        "id": "sEtUH0bvyIrN"
      },
      "source": [
        "**Latihan 1**"
      ]
    },
    {
      "cell_type": "code",
      "metadata": {
        "id": "fZ8ItNVDurwT"
      },
      "source": [
        "A = [2, 3, 7, 10, 12]\n",
        "B = [1, 3, 5, 7, 9]"
      ],
      "execution_count": null,
      "outputs": []
    },
    {
      "cell_type": "code",
      "metadata": {
        "colab": {
          "base_uri": "https://localhost:8080/"
        },
        "id": "Pnq8ETkayDdE",
        "outputId": "4b8c71a9-e87a-4fab-a186-90abb0f8596e"
      },
      "source": [
        "print(A)\n",
        "print(B)"
      ],
      "execution_count": null,
      "outputs": [
        {
          "output_type": "stream",
          "name": "stdout",
          "text": [
            "[2, 3, 7, 10, 12]\n",
            "[1, 3, 5, 7, 9]\n"
          ]
        }
      ]
    },
    {
      "cell_type": "markdown",
      "metadata": {
        "id": "LkhufI0yyhPh"
      },
      "source": [
        "**Latihan 2**"
      ]
    },
    {
      "cell_type": "code",
      "metadata": {
        "colab": {
          "base_uri": "https://localhost:8080/"
        },
        "id": "nBf12TjIyjgc",
        "outputId": "5ec58a6d-00f3-4a3e-e6e5-4b7cf3da3d2b"
      },
      "source": [
        "A[3] = 5\n",
        "A[4] = 8\n",
        "print(\"List A setelah diganti elemennya:\", A)"
      ],
      "execution_count": null,
      "outputs": [
        {
          "output_type": "stream",
          "name": "stdout",
          "text": [
            "List A setelah diganti elemennya: [2, 3, 7, 5, 8]\n"
          ]
        }
      ]
    },
    {
      "cell_type": "code",
      "metadata": {
        "colab": {
          "base_uri": "https://localhost:8080/"
        },
        "id": "NevpKlRly1Kc",
        "outputId": "ed72863f-adce-4aaf-cdb4-f20120dc0a38"
      },
      "source": [
        "B[2] = 4\n",
        "B[4] = 11\n",
        "print(\"List B setelah diganti elemennya:\", B)"
      ],
      "execution_count": null,
      "outputs": [
        {
          "output_type": "stream",
          "name": "stdout",
          "text": [
            "List B setelah diganti elemennya: [1, 3, 4, 7, 11]\n"
          ]
        }
      ]
    }
  ]
}