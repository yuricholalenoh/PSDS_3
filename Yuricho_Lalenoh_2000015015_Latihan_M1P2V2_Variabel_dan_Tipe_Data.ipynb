{
  "nbformat": 4,
  "nbformat_minor": 0,
  "metadata": {
    "colab": {
      "name": "Yuricho_Lalenoh_2000015015_Latihan_M1P2V2_Variabel_dan_Tipe_Data.ipynb",
      "provenance": [],
      "include_colab_link": true
    },
    "kernelspec": {
      "name": "python3",
      "display_name": "Python 3"
    },
    "language_info": {
      "name": "python"
    }
  },
  "cells": [
    {
      "cell_type": "markdown",
      "metadata": {
        "id": "view-in-github",
        "colab_type": "text"
      },
      "source": [
        "<a href=\"https://colab.research.google.com/github/yuricholalenoh/PSDS_3/blob/main/Yuricho_Lalenoh_2000015015_Latihan_M1P2V2_Variabel_dan_Tipe_Data.ipynb\" target=\"_parent\"><img src=\"https://colab.research.google.com/assets/colab-badge.svg\" alt=\"Open In Colab\"/></a>"
      ]
    },
    {
      "cell_type": "markdown",
      "metadata": {
        "id": "MPqDamDtl1Sb"
      },
      "source": [
        "**Latihan 1**"
      ]
    },
    {
      "cell_type": "code",
      "metadata": {
        "id": "Q2PCe4nVloqt"
      },
      "source": [
        "# membuat variabel\n",
        "a ='Neck Deep'\n",
        "b = 10\n",
        "c = 27.5\n",
        "d = False\n",
        "e = 27 + 3j"
      ],
      "execution_count": null,
      "outputs": []
    },
    {
      "cell_type": "code",
      "metadata": {
        "colab": {
          "base_uri": "https://localhost:8080/"
        },
        "id": "4k-4HdPwna9l",
        "outputId": "9cd170c3-7af9-49d3-d7a1-ee1883d6c386"
      },
      "source": [
        "#Menampilkan variabel\n",
        "print(a)\n",
        "print(b)\n",
        "print(c)\n",
        "print(d)\n",
        "print(e)"
      ],
      "execution_count": null,
      "outputs": [
        {
          "output_type": "stream",
          "name": "stdout",
          "text": [
            "Neck Deep\n",
            "10\n",
            "27.5\n",
            "False\n",
            "(27+3j)\n"
          ]
        }
      ]
    },
    {
      "cell_type": "markdown",
      "metadata": {
        "id": "lsQYoJVqnpFh"
      },
      "source": [
        "**Latihan 2**"
      ]
    },
    {
      "cell_type": "code",
      "metadata": {
        "colab": {
          "base_uri": "https://localhost:8080/"
        },
        "id": "Zt2gI9i_nr6O",
        "outputId": "0fe224e5-78b7-4eb5-ca06-7a4c9cfb3a60"
      },
      "source": [
        "# Tipe data tiap variabel\n",
        "print(type(a))\n",
        "print(type(b))\n",
        "print(type(c))\n",
        "print(type(d))\n",
        "print(type(e))"
      ],
      "execution_count": null,
      "outputs": [
        {
          "output_type": "stream",
          "name": "stdout",
          "text": [
            "<class 'str'>\n",
            "<class 'int'>\n",
            "<class 'float'>\n",
            "<class 'bool'>\n",
            "<class 'complex'>\n"
          ]
        }
      ]
    },
    {
      "cell_type": "markdown",
      "metadata": {
        "id": "ZDsSJK-7oLUF"
      },
      "source": [
        "**Latihan 3**"
      ]
    },
    {
      "cell_type": "code",
      "metadata": {
        "colab": {
          "base_uri": "https://localhost:8080/"
        },
        "id": "L7DeE332oOCt",
        "outputId": "fe585bdc-4edd-4952-eb71-be76e6e83c81"
      },
      "source": [
        "# Konversi ke integer\n",
        "print(int(c))\n",
        "print(int(d))"
      ],
      "execution_count": null,
      "outputs": [
        {
          "output_type": "stream",
          "name": "stdout",
          "text": [
            "27\n",
            "0\n"
          ]
        }
      ]
    },
    {
      "cell_type": "code",
      "metadata": {
        "colab": {
          "base_uri": "https://localhost:8080/"
        },
        "id": "sxR95xyEoqxk",
        "outputId": "3295ffd3-f9a2-4775-9554-b27a4a3a6328"
      },
      "source": [
        "#konversi ke float\n",
        "print(float(b))\n",
        "print(float(d))"
      ],
      "execution_count": null,
      "outputs": [
        {
          "output_type": "stream",
          "name": "stdout",
          "text": [
            "10.0\n",
            "0.0\n"
          ]
        }
      ]
    },
    {
      "cell_type": "code",
      "metadata": {
        "colab": {
          "base_uri": "https://localhost:8080/"
        },
        "id": "imMUpTvco_FO",
        "outputId": "fd55ea09-dbd5-41cf-de36-8ae0ef1aba24"
      },
      "source": [
        "#konversi ke string\n",
        "print(str(b))\n",
        "print(str(c))\n",
        "print(str(d))\n",
        "print(str(e))"
      ],
      "execution_count": null,
      "outputs": [
        {
          "output_type": "stream",
          "name": "stdout",
          "text": [
            "10\n",
            "27.5\n",
            "False\n",
            "(27+3j)\n"
          ]
        }
      ]
    },
    {
      "cell_type": "code",
      "metadata": {
        "colab": {
          "base_uri": "https://localhost:8080/"
        },
        "id": "u52kA-K9phk9",
        "outputId": "e1e8ca87-06ed-438c-84eb-fc70362fa43a"
      },
      "source": [
        "#konversi ke boolean\n",
        "print(bool(a))\n",
        "print(bool(b))\n",
        "print(bool(c))\n",
        "print(bool(e))"
      ],
      "execution_count": null,
      "outputs": [
        {
          "output_type": "stream",
          "name": "stdout",
          "text": [
            "True\n",
            "True\n",
            "True\n",
            "True\n"
          ]
        }
      ]
    },
    {
      "cell_type": "code",
      "metadata": {
        "colab": {
          "base_uri": "https://localhost:8080/"
        },
        "id": "72ZRSTcXqA9b",
        "outputId": "2d8db263-1c18-4bb7-8b17-950cee46e3dd"
      },
      "source": [
        "#konversi ke complex\n",
        "print(complex(b))\n",
        "print(complex(c))\n",
        "print(complex(d))"
      ],
      "execution_count": null,
      "outputs": [
        {
          "output_type": "stream",
          "name": "stdout",
          "text": [
            "(10+0j)\n",
            "(27.5+0j)\n",
            "0j\n"
          ]
        }
      ]
    }
  ]
}