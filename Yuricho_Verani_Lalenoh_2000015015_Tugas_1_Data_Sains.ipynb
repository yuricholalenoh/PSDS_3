{
  "nbformat": 4,
  "nbformat_minor": 0,
  "metadata": {
    "colab": {
      "name": "Yuricho Verani Lalenoh_2000015015_Tugas 1 Data Sains.ipynb",
      "provenance": [],
      "include_colab_link": true
    },
    "kernelspec": {
      "name": "python3",
      "display_name": "Python 3"
    },
    "language_info": {
      "name": "python"
    }
  },
  "cells": [
    {
      "cell_type": "markdown",
      "metadata": {
        "id": "view-in-github",
        "colab_type": "text"
      },
      "source": [
        "<a href=\"https://colab.research.google.com/github/yuricholalenoh/PSDS_3/blob/main/Yuricho_Verani_Lalenoh_2000015015_Tugas_1_Data_Sains.ipynb\" target=\"_parent\"><img src=\"https://colab.research.google.com/assets/colab-badge.svg\" alt=\"Open In Colab\"/></a>"
      ]
    },
    {
      "cell_type": "markdown",
      "metadata": {
        "id": "ld86EHTantw9"
      },
      "source": [
        "###Pengenalan Python\n"
      ]
    },
    {
      "cell_type": "markdown",
      "metadata": {
        "id": "AV6i4vF3n6No"
      },
      "source": [
        "Python adalah bahasa pemrograman tingkat tinggi dengan dynamic semantics, bersifat object oriented, dan interpretatif. Bahasa pemrograman ini fokus dikembangkan pada keterbacaan bahasa pemrograman.\n",
        "  1. **Bahasa Pemrograman Tingkat Tinggi(High Level Programming)** Artinya sintaks kode lebih mudah ditafsirkan oleh manusia.\n",
        "  2. **Interpretatif** Ini artinya bahasa ini memerlukan interpeter atau penerjemah. Ini memungkinkan bagi kita untuk menggunakan Bahasa yang lebih mudah kita pahami.\n",
        "  3. **Object Oriented** Ini berarti bahwa bahasa pemrograman ini berorientasi kepada objek. Hal ini membuat Python lebih mudah untuk dikembangkan.\n",
        "  4. **Dynamic Semantics** Python secara otomatis akan menyesuaikan tipe dari suatu variable berdasarkan inputnya."
      ]
    },
    {
      "cell_type": "markdown",
      "metadata": {
        "id": "eNBwihPkqilg"
      },
      "source": [
        "###Mengapa Python?"
      ]
    },
    {
      "cell_type": "markdown",
      "metadata": {
        "id": "rVSN2g_sqnex"
      },
      "source": [
        "1. Mudah dipahami\n",
        "2. Gratis & Open Source\n",
        "3. Dinamis\n",
        "4. Memiliki Library Terlengkap untuk Data Sains"
      ]
    },
    {
      "cell_type": "markdown",
      "metadata": {
        "id": "6ghHdJCurAIU"
      },
      "source": [
        "###Struktur Program Pada Python"
      ]
    },
    {
      "cell_type": "markdown",
      "metadata": {
        "id": "y1eb4Vnfrp0P"
      },
      "source": [
        "Python pada umumnya terdiri dari:\n",
        "\n",
        "**1. Statements**"
      ]
    },
    {
      "cell_type": "code",
      "metadata": {
        "colab": {
          "base_uri": "https://localhost:8080/"
        },
        "id": "IOoX_Ngzty-H",
        "outputId": "64cf15a1-67cd-4c05-85b3-8f7b5a354c5a"
      },
      "source": [
        "print(\"belajar Python menyenangkan\")\n",
        "print(\"halo dunia\")"
      ],
      "execution_count": null,
      "outputs": [
        {
          "output_type": "stream",
          "name": "stdout",
          "text": [
            "belajar Python menyenangkan\n",
            "halo dunia\n"
          ]
        }
      ]
    },
    {
      "cell_type": "markdown",
      "metadata": {
        "id": "h2x2AgyssofF"
      },
      "source": [
        "**2. Variables**"
      ]
    },
    {
      "cell_type": "code",
      "metadata": {
        "id": "X3OK5SHEtSRO"
      },
      "source": [
        "bilangan1 = 5\n",
        "bilangan2 = 10\n",
        "kalimat = \"Pejuang Data 3\""
      ],
      "execution_count": null,
      "outputs": []
    },
    {
      "cell_type": "markdown",
      "metadata": {
        "id": "0MAQu2Bzts0V"
      },
      "source": [
        "**3. Literals**: Simbol-simbol yang dapat kita gunakan untuk mengisi suatu variabel."
      ]
    },
    {
      "cell_type": "markdown",
      "metadata": {
        "id": "uzb4BSvTvet6"
      },
      "source": [
        "**4. Operators**: Simbol-simbol yang dapat digunakan untuk mengubah nilai dari satu variabel dengan melibatkan satu atau lebih variabel dan literal."
      ]
    },
    {
      "cell_type": "code",
      "metadata": {
        "colab": {
          "base_uri": "https://localhost:8080/"
        },
        "id": "F0bM6mcGvt0m",
        "outputId": "c7d9532b-dd09-4e0f-df58-d82e3699b904"
      },
      "source": [
        "bilangan1 + bilangan2"
      ],
      "execution_count": null,
      "outputs": [
        {
          "output_type": "execute_result",
          "data": {
            "text/plain": [
              "15"
            ]
          },
          "metadata": {},
          "execution_count": 10
        }
      ]
    },
    {
      "cell_type": "markdown",
      "metadata": {
        "id": "rQzSmYv6wuoR"
      },
      "source": [
        "**5. Reserved Words**: Kumpulan kata-kata yang memiliki makna khusus dalam bahasa pemrograman Python. Kata `False`, `return`, dan `for` merupakan contoh dari reserved words."
      ]
    },
    {
      "cell_type": "markdown",
      "metadata": {
        "id": "KIvVE6kuxiCy"
      },
      "source": [
        "**6. Whitespace**: Pada bahasa Python, spasi dan tab memiliki makna khusus untuk menandai serangkaian blok dalam kode Python."
      ]
    },
    {
      "cell_type": "markdown",
      "metadata": {
        "id": "JusM-D4QxyHk"
      },
      "source": [
        "**7. Comments**: Comments merupakan sekumpulan teks yang dituliskan di dalam sebuah program yang tidak akan mempengaruhi hasil dari sebuah program."
      ]
    },
    {
      "cell_type": "markdown",
      "metadata": {
        "id": "DE1H10-hyIha"
      },
      "source": [
        "Terdapat dua jenis comments di dalam Python, yaitu:\n",
        "\n",
        "**a. single line comment** (comments dalam satu baris) seperti pada contoh berikut:"
      ]
    },
    {
      "cell_type": "code",
      "metadata": {
        "colab": {
          "base_uri": "https://localhost:8080/"
        },
        "id": "rPz2_WNiyctr",
        "outputId": "60575c02-23a5-48fc-b0bc-4f3821053e0e"
      },
      "source": [
        "# Ini adalah Comment\n",
        "print(\"belajar Python\")"
      ],
      "execution_count": null,
      "outputs": [
        {
          "output_type": "stream",
          "name": "stdout",
          "text": [
            "belajar Python\n"
          ]
        }
      ]
    },
    {
      "cell_type": "markdown",
      "metadata": {
        "id": "i8X46Pz8yyOu"
      },
      "source": [
        "**b. multi line comment** (comments dalam beberapa baris) yang dapat dituliskan seperti pada contoh berikut:"
      ]
    },
    {
      "cell_type": "code",
      "metadata": {
        "colab": {
          "base_uri": "https://localhost:8080/"
        },
        "id": "ez7j2lMyz82K",
        "outputId": "260ac33b-5a0b-423e-c5d1-201b61e2ac28"
      },
      "source": [
        "'''\n",
        "Ini adalah komentar panjang\n",
        "Bisa digunakan untuk memberikan penjelasan\n",
        "panjang pada Sell Kode Python,\n",
        "Misal dokumentasi program, spesifikasi \n",
        "input output atau lainnya\n",
        "'''\n",
        "\n",
        "print('Belajar Python menyenangkan')"
      ],
      "execution_count": null,
      "outputs": [
        {
          "output_type": "stream",
          "name": "stdout",
          "text": [
            "Belajar Python menyenangkan\n"
          ]
        }
      ]
    }
  ]
}