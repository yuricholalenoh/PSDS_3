{
  "nbformat": 4,
  "nbformat_minor": 0,
  "metadata": {
    "colab": {
      "name": "Yuricho_Lalenoh_2000015015_Latihan_M1P2V1_Operator.ipynb",
      "provenance": [],
      "include_colab_link": true
    },
    "kernelspec": {
      "name": "python3",
      "display_name": "Python 3"
    },
    "language_info": {
      "name": "python"
    }
  },
  "cells": [
    {
      "cell_type": "markdown",
      "metadata": {
        "id": "view-in-github",
        "colab_type": "text"
      },
      "source": [
        "<a href=\"https://colab.research.google.com/github/yuricholalenoh/PSDS_3/blob/main/Yuricho_Lalenoh_2000015015_Latihan_M1P2V1_Operator.ipynb\" target=\"_parent\"><img src=\"https://colab.research.google.com/assets/colab-badge.svg\" alt=\"Open In Colab\"/></a>"
      ]
    },
    {
      "cell_type": "markdown",
      "metadata": {
        "id": "sTLUdr_Ff8Vy"
      },
      "source": [
        "**Latihan Operator 1**"
      ]
    },
    {
      "cell_type": "code",
      "metadata": {
        "id": "XM6EpcmEe1vz",
        "colab": {
          "base_uri": "https://localhost:8080/"
        },
        "outputId": "037b22ec-efc0-4935-de40-8d97e4cdb2da"
      },
      "source": [
        "#Penjumlahan\n",
        "print('Penjumlahan')\n",
        "print(15+27)\n",
        "print(6+10)\n",
        "#Pengurangan\n",
        "print('-'*20)\n",
        "print('Pengurangan')\n",
        "print(27-15)\n",
        "print(10-6)\n",
        "#Perkalian\n",
        "print('-'*20)\n",
        "print('Perkalian')\n",
        "print(20*21)\n",
        "print(10*3)\n",
        "#Pembagian\n",
        "print('-'*20)\n",
        "print('Pembagian')\n",
        "print(15/3)\n",
        "print(75/5)\n",
        "#Modulus\n",
        "print('-'*20)\n",
        "print('Modulus')\n",
        "print(15%4)\n",
        "print(27%10)\n",
        "#Perpangkatan\n",
        "print('-'*20)\n",
        "print('Perpangkatan')\n",
        "print(4**3)\n",
        "print(10**0)\n",
        "#Pembagian Pembulatan Floring\n",
        "print('-'*20)\n",
        "print('Pembagian Pembulatan Floring')\n",
        "print(15//4)\n",
        "print(7//2)"
      ],
      "execution_count": null,
      "outputs": [
        {
          "output_type": "stream",
          "name": "stdout",
          "text": [
            "Penjumlahan\n",
            "42\n",
            "16\n",
            "--------------------\n",
            "Pengurangan\n",
            "12\n",
            "4\n",
            "--------------------\n",
            "Perkalian\n",
            "420\n",
            "30\n",
            "--------------------\n",
            "Pembagian\n",
            "5.0\n",
            "15.0\n",
            "--------------------\n",
            "Modulus\n",
            "3\n",
            "7\n",
            "--------------------\n",
            "Perpangkatan\n",
            "64\n",
            "1\n",
            "--------------------\n",
            "Pembagian Pembulatan Floring\n",
            "3\n",
            "3\n"
          ]
        }
      ]
    },
    {
      "cell_type": "markdown",
      "metadata": {
        "id": "fihmtOGwhwYq"
      },
      "source": [
        "**Latihan 2**"
      ]
    },
    {
      "cell_type": "code",
      "metadata": {
        "colab": {
          "base_uri": "https://localhost:8080/"
        },
        "id": "12emzScHhv8L",
        "outputId": "86cb86b8-8a1c-4fbc-d9f7-e552453b0cca"
      },
      "source": [
        "#Penjumlahan\n",
        "print('Penjumlahan')\n",
        "x=15\n",
        "x=x+10\n",
        "print(x)\n",
        "x=27\n",
        "x+=6\n",
        "print(x)\n",
        "print('-'*20)\n",
        "\n",
        "#Pengurangan\n",
        "print('Pengurangan')\n",
        "x=12\n",
        "x=x-10\n",
        "print(x)\n",
        "x=7\n",
        "x-=4\n",
        "print(x)\n",
        "print('-'*20)\n",
        "\n",
        "#Perkalian\n",
        "print('Perkalian')\n",
        "x=57\n",
        "x=x*2\n",
        "print(x)\n",
        "x=10\n",
        "x*=3\n",
        "print(x)\n",
        "print('-'*20)\n",
        "\n",
        "#Pembagian\n",
        "print('Pembagian')\n",
        "x=9\n",
        "x=x/3\n",
        "print(x)\n",
        "x=15\n",
        "x/=10\n",
        "print(x)\n",
        "print('-'*20)\n",
        "\n",
        "#Modulus\n",
        "print('Modulus')\n",
        "x=17\n",
        "x=x%4\n",
        "print(x)\n",
        "x=10\n",
        "x%=2\n",
        "print(x)\n",
        "print('-'*20)\n",
        "\n",
        "#Pembagian Floring\n",
        "print('Pembagian Floring')\n",
        "x=19\n",
        "x=x//7\n",
        "print(x)\n",
        "x=11\n",
        "x//=3\n",
        "print(x)\n",
        "print('-'*20)\n",
        "\n",
        "#Perpangkatan\n",
        "print('Perpangkatan')\n",
        "x=2\n",
        "x=x**4\n",
        "print(x)\n",
        "x=10\n",
        "x**=2\n",
        "print(x)\n",
        "print('-'*20)"
      ],
      "execution_count": null,
      "outputs": [
        {
          "output_type": "stream",
          "name": "stdout",
          "text": [
            "Penjumlahan\n",
            "25\n",
            "33\n",
            "--------------------\n",
            "Pengurangan\n",
            "2\n",
            "3\n",
            "--------------------\n",
            "Perkalian\n",
            "114\n",
            "30\n",
            "--------------------\n",
            "Pembagian\n",
            "3.0\n",
            "1.5\n",
            "--------------------\n",
            "Modulus\n",
            "1\n",
            "0\n",
            "--------------------\n",
            "Pembagian Floring\n",
            "2\n",
            "3\n",
            "--------------------\n",
            "Perpangkatan\n",
            "16\n",
            "100\n",
            "--------------------\n"
          ]
        }
      ]
    },
    {
      "cell_type": "markdown",
      "metadata": {
        "id": "m8AlMzgKi-wg"
      },
      "source": [
        "**Latihan Operator 3**"
      ]
    },
    {
      "cell_type": "code",
      "metadata": {
        "colab": {
          "base_uri": "https://localhost:8080/"
        },
        "id": "Y-wIIi7XjIYa",
        "outputId": "2b30ad03-8a62-49a0-fb66-51ae136d3ff5"
      },
      "source": [
        "print(27==13)\n",
        "print(7!=6)\n",
        "print(15>10)\n",
        "print(27<16)\n",
        "print(78>=30)\n",
        "print(90<=30)"
      ],
      "execution_count": null,
      "outputs": [
        {
          "output_type": "stream",
          "name": "stdout",
          "text": [
            "False\n",
            "True\n",
            "True\n",
            "False\n",
            "True\n",
            "False\n"
          ]
        }
      ]
    },
    {
      "cell_type": "markdown",
      "metadata": {
        "id": "D5yoVPyDjySz"
      },
      "source": [
        "**Latihan Operator 4**"
      ]
    },
    {
      "cell_type": "code",
      "metadata": {
        "colab": {
          "base_uri": "https://localhost:8080/"
        },
        "id": "xZaqvkLdj4ua",
        "outputId": "a1b36c90-0744-4905-dd08-48b6e4657701"
      },
      "source": [
        "print(True and True)\n",
        "print(True or False)\n",
        "print(not True and False)"
      ],
      "execution_count": null,
      "outputs": [
        {
          "output_type": "stream",
          "name": "stdout",
          "text": [
            "True\n",
            "True\n",
            "False\n"
          ]
        }
      ]
    },
    {
      "cell_type": "markdown",
      "metadata": {
        "id": "UbmaA046kbUg"
      },
      "source": [
        "**Latihan Operator 5**"
      ]
    },
    {
      "cell_type": "code",
      "metadata": {
        "colab": {
          "base_uri": "https://localhost:8080/"
        },
        "id": "fltwg9uekmj8",
        "outputId": "b5d4a249-2720-475b-f5cf-3cbd841b3c2e"
      },
      "source": [
        "a=(10, 12, 15, 19, 30)\n",
        "b=6\n",
        "\n",
        "print(b in a)\n",
        "\n",
        "print('-'*20)\n",
        "a=(11, 29, 40, 46, 79)\n",
        "b=29\n",
        "print(b not in a)"
      ],
      "execution_count": null,
      "outputs": [
        {
          "output_type": "stream",
          "name": "stdout",
          "text": [
            "False\n",
            "--------------------\n",
            "False\n"
          ]
        }
      ]
    }
  ]
}