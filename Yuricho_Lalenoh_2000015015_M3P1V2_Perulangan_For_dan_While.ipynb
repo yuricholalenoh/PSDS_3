{
  "nbformat": 4,
  "nbformat_minor": 0,
  "metadata": {
    "colab": {
      "name": "Yuricho Lalenoh_2000015015_M3P1V2_Perulangan_For_dan_While.ipynb",
      "provenance": [],
      "collapsed_sections": [],
      "authorship_tag": "ABX9TyM/25fLL0J/p2bJ+xZUCD8K",
      "include_colab_link": true
    },
    "kernelspec": {
      "name": "python3",
      "display_name": "Python 3"
    },
    "language_info": {
      "name": "python"
    }
  },
  "cells": [
    {
      "cell_type": "markdown",
      "metadata": {
        "id": "view-in-github",
        "colab_type": "text"
      },
      "source": [
        "<a href=\"https://colab.research.google.com/github/yuricholalenoh/PSDS_3/blob/main/Yuricho_Lalenoh_2000015015_M3P1V2_Perulangan_For_dan_While.ipynb\" target=\"_parent\"><img src=\"https://colab.research.google.com/assets/colab-badge.svg\" alt=\"Open In Colab\"/></a>"
      ]
    },
    {
      "cell_type": "markdown",
      "metadata": {
        "id": "ZDoOap4Ib1q_"
      },
      "source": [
        "###**Looping/Perulangan**\n",
        "\n",
        "Python menyediakan dua statement untuk melakukan proses perulangan yaitu for dan while. Diantara kedua statement ini, secara umum for lebih banyak digunakan daripada while."
      ]
    },
    {
      "cell_type": "markdown",
      "metadata": {
        "id": "yUadVKlMepph"
      },
      "source": [
        "###For Loop\n",
        "\n",
        "Perulangan `for` digunakan untuk melakukan iterasi di dalam `sequence` seperti `list`, `tuple`, `string`, dan `array` atau objek yang dapat diiterasi lainnya.\n",
        "\n",
        "**For Loop Syntax**\n",
        "```\n",
        "for val in sequence:\n",
        "    loop bbody\n",
        "```\n",
        "**For Loop Flowchart**\n",
        "\n",
        "![Screenshot_1.png](data:image/png;base64,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)\n",
        "\n",
        "**Example: Python for Loop**"
      ]
    },
    {
      "cell_type": "code",
      "metadata": {
        "id": "JByBIO-abyzt",
        "colab": {
          "base_uri": "https://localhost:8080/"
        },
        "outputId": "16542c2f-4bb8-4403-92ea-e9e6f453437f"
      },
      "source": [
        "# Program untuk menghitung jumlah semua angka dalam sebuah list\n",
        "L1 = [2, 4, 5, 7, 9]\n",
        "jumlah = 0\n",
        "\n",
        "# iterasi di dalam list\n",
        "for i in L1:\n",
        "  jumlah = jumlah + i\n",
        "\n",
        "print(jumlah)"
      ],
      "execution_count": null,
      "outputs": [
        {
          "output_type": "stream",
          "name": "stdout",
          "text": [
            "27\n"
          ]
        }
      ]
    },
    {
      "cell_type": "markdown",
      "metadata": {
        "id": "rKXHaDaoj_FZ"
      },
      "source": [
        "###**The range() function**"
      ]
    },
    {
      "cell_type": "code",
      "metadata": {
        "colab": {
          "base_uri": "https://localhost:8080/"
        },
        "id": "bdlUmF0FkFzj",
        "outputId": "5bde3733-77a6-4c72-ba46-77df1a5607ba"
      },
      "source": [
        "# Program untuk melakukan iterasi di dalam list melalui indeks\n",
        "minuman = [\"teh\",\"boba\",\"kopi\",\"susu\"]\n",
        "p = len(minuman)\n",
        "\n",
        "# iterasi di dalam list melalui indeks\n",
        "for i in range(p):\n",
        "  print(minuman[i])"
      ],
      "execution_count": null,
      "outputs": [
        {
          "output_type": "stream",
          "name": "stdout",
          "text": [
            "teh\n",
            "boba\n",
            "kopi\n",
            "susu\n"
          ]
        }
      ]
    },
    {
      "cell_type": "markdown",
      "metadata": {
        "id": "dHas_2ROkt9M"
      },
      "source": [
        "**for loop with else**"
      ]
    },
    {
      "cell_type": "code",
      "metadata": {
        "colab": {
          "base_uri": "https://localhost:8080/"
        },
        "id": "xpmM7IbfkyE5",
        "outputId": "c2472f76-bf0e-4f4f-a4a6-8f304ce51b30"
      },
      "source": [
        "#Contoh for loop menggunakan else\n",
        "for i in range(p):\n",
        "  print(minuman[i])\n",
        "else:\n",
        "  print(\"Elemen sudah habis\")"
      ],
      "execution_count": null,
      "outputs": [
        {
          "output_type": "stream",
          "name": "stdout",
          "text": [
            "teh\n",
            "boba\n",
            "kopi\n",
            "susu\n",
            "Elemen sudah habis\n"
          ]
        }
      ]
    },
    {
      "cell_type": "markdown",
      "metadata": {
        "id": "rUiKJTkQlFJv"
      },
      "source": [
        "###While Loop\n",
        "While loop pada Python digunakan untuk melakukan iterasi pada blok kode selama nilai dari `test expression` adalah `true`.\n",
        "\n",
        "**Syntax of while Loop in Python**\n",
        "```\n",
        "while test_expression:\n",
        "    Body of while\n",
        "```\n",
        "**While Loop Flowchart**\n",
        "\n",
        "![Screenshot_2.png](data:image/png;base64,iVBORw0KGgoAAAANSUhEUgAAAccAAAJCCAYAAAC1aQxEAAAAAXNSR0IArs4c6QAAAARnQU1BAACxjwv8YQUAAAAJcEhZcwAAFiUAABYlAUlSJPAAAED/SURBVHhe7d0HuF1T/v9xozODjD5qCKINQfQWNbronUSLKBFELxE10aK3IBgko4XogiBEF90omRjDMAbBaENY///n/Nb3WFl3n3PPzT373r33eb+eZz/J2mufXdZea33uvuWcaRwAAJgC4QgAQIRwBAAgQjgCABAhHAEAiBCOAABECEcAACKEIwAAEcIRAIAI4QgAQIRwBAAgQjgCABAhHAEAiBCOAABECEcAACKEIwAAEcIRAIAI4QgAQIRwBAAgQjgCABAhHAEAiBCOAABECEcAACKEIwAAEcIRAIAI4Qjk2IABA/z/ANQT4Qjk2DTTMISBNDCygBwjHIF0MLKAHCMcgXQwsoAcIxyBdDCygBwjHIF0MLKAHCMcgXQwsoAcIxyBdDCygBwjHIF0MLKAHCMcgXQwsoAcIxyBdDCygBwjHIF0MLKAHCMcgXQwsoAcIxyBdDCygBwjHIF0MLKAHCMcgXQwsoAcIxyBdDCygBwjHIF0MLKAHCMcKxs7dmypfYYPH+7X1G7ChAml1w4ePNivaZ1OnTq57t27+xLygJEF5Fhz4WgBkbT06dPHb1VMLQlHhZe2NYQjCEcgx8IJPYmCodaAKBrCEa1BOAI51h7hqElek33W8W1VtAbhCOQY4VgZ4YjWIByBHKtXOOrnjxZ42t6W8OeStq94iQNE+wnr42NbaOlfBYb+XylsrT6mdXHYxIEWhqPW6f+2xOLArxaOzV1fEr0mKRzt+sIliZ1PuCT9zFjrdT527bbUK+QbCeEI5Jgmvmos0JqbwDXR2kSqiVhsgo0n1jhIQto+DIGkfYQTd3OTtp2/XmPC14fibSsdR+cen3+t4ah1zV1fkqRwrHQe2p/dA0k6hp1fvE+ti/dr7dLcOWJKhCOQY5r0qrGJMWkJWTiGk7LEoSFJ68T2EYvX22QfT+xJkkJK/7cQCUNfxwnPq1JwJQVufE1Jx631+pJo3+H1ar96TdzeovXap4lfa5KuQ+Wke6N1SetRWfU7CiDTmpuUbQINQyRJpQk+Dg1JWidalzSJx0FgodXcOZn4eCrrtfo3DpGwXOk41iYtDcdary9J/Nr4eKGwLuk8TFKdymEbGLu/1c4RUyIcgRzThFeNBUFzQVQtHOP1lSZ2rdO2lRabmFsajnYN9nr7v0LBzsP2GQZec+EYro+vKSl4ar2+JHqtjmHicig8l2ptlXSOKieFo7Zp7hwxJcIRyDFNeNUkBUGSeoVjpQk/1NJwtBDQ9nqtHdvW698wKE0a4VjL9SWJX6tyfL4mPBe7hvA8TNI5qlztyRG1o7WAHGtuwksKgiT1CMdaJ+CWhqPomNq/giCc/HUeWmf1oXqHY63Xl0T71jGM7UvHCdlxw2tROXyt0bmpTtdpVE66N/Hx0bypu9MAMkGTYTVJQZCk0sSvCTVe39zEHk/COna4bmrC0YJA+wlfp3OxcwxDQuodjrVeX5I4nGxfcZCprPUhu/bwXOzawhAVrYv3a6+P2wHVEY5AjmnSq8Ym0aQlnKxbEo5ik7iWeNK19bbEwTE14WhhokX/N+H1xeodjsaOZ0t8fUm076Ttwnastq+k+5jUflqve2nXaItej5YhHIEc08QHGAtHtB4jC8gxwhEhwrF+GFlAjhGOCBGO9cPIAnKMcESIcKwfRhaQY4QjkA5GFpBjhCOQDkYWkGOEI5AORhaQY4QjkA5GFpBjhCOQDkYWkGOEI5AORhaQY4QjkA5GFpBjhCOQDkYWkGOEI5AORhaQY4QjkA5GFpBjhCOQDkYWkGOEI5AORhaQY4QjkA5GFpBjhCOQDkYWkGOEI5AORhaQY4QjkA5GFpBjhCOQDkYWkGOEI5AORhaQY4QjkA5GFpBjhCOQDkYWkGOEI5AORhaQY4QjkA5GFpBjhCOQDkYWkGOEI5AORhaQY4QjkA5GFpBjhCOQDkYWkGOEI5AORhaQY4QjkA5GFpBjhCOQDkYWkGOEI5AORhaQY4QjkA5GFpBjhCOQDkYWkGOEI5AORhaQY4QjkA5GFpBjhCOQDkYWkGOEI5AORhaQE8OGDXMDBgyYYlE4xuuGDBniXwFgahGOQE5YGDa3aDsArUM4AjkxadIk17Fjx8RAtKVDhw6l7QC0DuEI5EhzT488NQL1QTgCOVLt6ZGnRqB+CEcgZyo9PfLUCNQP4QjkTNLTI0+NQH0RjkAOxU+PPDUC9UU4AjkUPj3y1AjUH+EI5JQ9PfLUCNQf4Qjk0GOPPeZWWGEFN8sss7hRo0b5tQDqhXAEcuaYY46Z4ueNWrQOQP0QjkBOjB49uvS0aIF4/PHHlxYrq07bAGg9whHIgf79+5dDsGvXru6JJ57wNa70f62zem0LoHUIRyDDHnroIbf88suXg+/EE0/0NU2pzrbTa/RaAFOHcAQy6Ndff3VHHHFEOexWW201N3bsWF9bmbbRtvY67UP7AtAyhCOQMffff79bZpllygF3yimn+Jra6TX2eu1L+wRQO8IRyIjJkye7vn37lkNtzTXXdOPGjfO1LafXah+2P+1bxwDQPMIRyIB7773Xde7cuRxkAwcO9DWtp33ZfnUMHQtAdYQj0I7+97//uUMPPbQcXmuvvbZ79tlnfW39aJ/atx1Hx9SxASQjHIF2cvfdd7sllliiHFinn366r0mPjmHH07F1DgCaIhyBNvb999+7Pn36lENqvfXWcy+88IKvTZ+OpWPa8XUuOicAvyEcgTZ05513usUWW6wcTGeddZavaXs6tp2HzknnBuD/EI5AG/j2229d7969y2HUrVs39/LLL/va9qNz0LnYeekcda5AoyMcgZTdfvvtbtFFFy0H0KBBg3xNduic7Px0rjpnoJERjkBKvv76a7f//vuXQ2ejjTZyr7zyiq/NHp2bztHOV+euawAaEeEIpOCvf/2rW2ihhcpBc+655/qa7NO52nnrGnQtQKMhHIE6mjRpkuvVq1c5XDbddFP3+uuv+9r80Dnr3O06dE26NqBREI5AnQwfPtwtsMAC5UC54IILfE1+6RrsenRtukagERCOQCt9/vnnbp999imHyGabbebefPNNX5t/uhZdk12frlXXDBQZ4Qi0wk033eTmm2++UmhMN9107sILL/Q1xaNr0zXqWnXNunagqAhHYCr8+9//dnvuuWf5aWrLLbd0f/vb33xtcekada123WoDtQVQNIQj0EI33HCDm3vuuUvhMMMMM7hLLrnE1zQOXfOMM85YagO1hdoEKBLCEajRJ5984nbffffyU9PWW2/t3nvvPV/beHTtagNrD7WN2ggoAsIRqMGwYcPcnHPOWQqBWWaZxV122WW+BmqLmWeeudQ2aiO1FZB3hCNQxUcffeR22WWX8tNRjx493IQJE3wtjNpEbWPtpDZT2wF5RTgCFVxzzTVujjnmKE32v//9792VV17pa1CJ2khtpTZT26kNgTwiHIHIhx9+6HbcccfyU9AOO+zgPvjgA1+L5qit1GbWfmpLtSmQJ4QjELj66qvdbLPNVprUZ599djd06FBfg5ZS21lb6l+1LZAXhCPw/02cONFtv/325aednXbaiaedOlAbqi2tXdXGamsg6whHNLwrrrjCzTrrrKXJu0OHDu7aa6/1NagXtanaVm2stlabA1lGOKJhvf/++27bbbctP9Xsuuuu7uOPP/a1qDe1rdrY2lttr3sAZBHhiIZ06aWXuplmmqk0Setv866//npfg7Spreeaa65S2+se6F4AWUM4oqG8++67Td7V5dNPP/W1aCtq8/jdhnRvgKwgHNEwLr74Yjf99NOXJuN55pnH3Xjjjb4G7UX3QPdC90TvU6t7BGQB4YjCe/vtt90WW2xRfkrZa6+93GeffeZr0d50L3RP7P7oXumeAe2JcEShDRkyxE077bSlSVefQXjzzTf7GmSN7s38889fule6Z7p3QHshHFFI+vT67t27l59Gevbs6b744gtfi6zSPdK9svume6h7CbQ1whGFc/7555cn1wUXXNCNGDHC1yAvdM8WWGCB8n3UPQXaEuGIwnjttdfcJptsUp5Q9913Xzdp0iRfi7zRvdM9tPupe6t7DLQFwhGFcM4555Qn0YUXXtjdeuutvgZ5p3upe2r3V/caSBvhiFwbP36823DDDcsT5wEHHOC++eYbX4ui0D3VvbX7rHuuew+khXBEbg0aNKg8WXbs2NHdcccdvgZFpXuse233XX0ASAPhiNx56aWXXLdu3coTZO/evd13333na1F0ute653b/1RfUJ4B6IhyRK2eeeWZ5Ulx88cXdyJEjfQ0aje69+oD1B/UNoF4IR+TC888/79Zdd93yRHjwwQe7H374wdeiUakPqC9Yv1AfUV8BWotwROaddtpp5clviSWWcKNGjfI1wP9Rn1hyySXL/UR9BmgNwhGZ9eyzz7q11lqrPOEddthh7qeffvK1wJTUN9RHrL+o76gPAVODcEQmnXrqqeVJrnPnzu6+++7zNUB16ivqM9Z/1JeAliIckSlPP/20W2ONNcoT2+GHH+4mT57sa4HaqM+o71g/Up9S3wJqRTgiM04++eTyZLbsssu6Bx54wNcAU0d9SH3J+pX6GFALwhHt7sknn3SrrrpqeQI78sgjfQ1QH+pT1r/U19TngGoIR7SrE088sTxp/fnPf3YPP/ywrwHqS31Lfcz6m/peoxs8eHCpLSZMmODXwBCOaBePP/64W2WVVcoTVf/+/X0NkC71Net36oPqi3kyduzY8vnHy/Dhw/1WtSEcKyMc0eaOO+648mBeccUV3SOPPOJrgLahPqe+Z/1QfTIvFIA655YGYRLCsTLCEW3m0UcfdV26dClPSMcee6yvAdqH+qD1R/VN9dGsIxzbBuGINnH00UeXJ6GVV17ZjRkzxtc0pu7du5fbo9KibZA+9UX1SWt39dUsIxzbBuGIVI0ePXqKX4I44YQTfA1CnTp1Ki1oP+qb1k/VZ9V3s6jWcFTg2fXYop9XhpLCMX5dnz59fM1v7HW2FPELOcIRqTnqqKPKg6dr1678+nwVbRGO9osc9XjiKCr1UfVV67fqw1lTSziqLu5P9t2KMAjjcLRg1Hqj14WhqrCM91PEL+4IR9Tdgw8+6JZbbrnSANJy0kkn+RpUQjhmi/qs9V/1ZfXprLBwTFrCwIol3f84HG2bMAxDlfpQEfsW4Yi6+eWXX1y/fv1Kg0TL6quv7p566ilfi2pqCUdrV1uSJrD4Z5lG+w7Xx/VoSn1XfdjaSn1bfby9WTi2NIgswMKnwjgcxa43qX8lbS8qx/vOO0YH6kJv9rz00kuXB9aAAQN8DWpRLRxt4gl/9pM0QSoYw32oLnxNEb+6bwvqy9av1cfb+03wk+59EtsuXpoLRwm3D/uQbV9pIRwB7+eff3Z9+/YtDw59TNAzzzzja1GrauEYh56J1+v/Sb88YQjHqac+HX58mvq8+n57qCUcLcTCbWp9cgzZzxftNc1tXySEI6baPffc45ZaaqnSYNEycOBAX4OWqhaOatuk0LOJy1i5UkASjq2nPq421KK+rzHQ1moJx6QvqKYmHEX11qcaqQ8RjmixH3/80R1yyCGlQaJlnXXWcc8995yvxdRoLhyrLSELyKQ6wrE+1NfV562NNRY0JtpKLeFo/SAMPTvfauGo14X1SX3Gfq4dB2rSujwjHNEid911V2kS10DQcsYZZ/gatEZz4VjpabASm9TCfRKO9aW+b+NA7ayx0RZqCUexELPF7n9zT47h+I63N/EXYVqKFIxCOKIm3333nTvooIPKA2H99dd3L774oq9Fa1ULx0o/c2yOTWCGcKw/jQGNBRsXGiMaK8g/whHNuvPOO13Hjh3LE8DZZ5/ta1Av1cLRQi1+etRX9LZO28SvV1nBavSVfdJ+0HoaEzY+NFY0ZpBvhCMq+u9//+sOPPDA8qDfYIMN3Pjx430t6qlaOIoFW7gkhWVYn7Q/+5ZcpXpMPY0NjRFrX40djSHkE+GIRLfddptbZJFFygM96ecOAJoKv0jRGNJYQv4QjpjCV1995fbbb7/y4N54443dq6++6msB1EJjRmPHxpHGlMYW8oNwRNmIESPcggsuWB7Q5513nq8BMDU0hmw8aWxpjCEfCEe4L7/80vXq1as8iPVLHG+88YavBdAaGkvhn1VorGnMIdsIxwZ3yy23uD/96U+lQfu73/3OXXDBBb4GQD1pbGmMaaxpzGnsIbsIx5ybOHGi/1/L/Oc//3F77713+avZzTff3L311lu+FkAaNMY01mzcaQxqLCJ7CMecGzZsmOvSpUvp31r95S9/cfPOO29pcE4//fTuoosu8jUA2oLGnMaexqDGosYksoVwzDmFon0V2q1bt6p/h/jpp5+6PfbYo7z9Vltt5d555x1fC6AtaexpDNp41NjUGEU2EI45N2TIkPLgsqVHjx5Nvt16ww03uLnmmqtUP+OMM7pLL73U1wBoTxqLGpMamxqjGqtof6mFoz4gVBN3hw4dyoveVskWfSvQFj3x2KKJPVx69uxZXvRJ3LZo/+GiY9mipylbRo4cWV7GjBkzxaKnLFsUJrZMmjSpvGRdUjjaojbTJwjstttu5XXbbLONe//99/2rAWSBxqTGpo1Tjdl//etfvjYbwnnR5spwDtWcGs63NgeHc7PN1zaP29xu832YBZYPlhmWI9tuu60/o3SlFo76raxffvklsUGTGtWWsHHDBq7UyHFjhw0eNnrc8GHjhzcgvAlarLPaEtaFrwn3FR4jPL6W8NzCc46vJ7zWsA3CtlF76bXxOSYts8wyi7v88sv93QGQRRqjGqsas3/84x9LT5XVwiicM6vNk+FcE86L4VwVz4XhXGfzSDz3Jc178VwXHjue3+J5za5Ji12nXbva4YMPPnBzzDGHb610pRaO0047rZs8ebIvFUfWwl4d1DputWX22WcvnSeAbPv73//utttuu/LYnWGGGdxCCy1UlzDSEgZSOFclhZEtWaFzUTi3hdTCcbrppnM///yzLyEt6vhhCMaLfoahAZGlDg6geVdddZX7wx/+UBrH+uJ26NChvqZxFSIc9WvKP/30ky8hLZXCcaaZZnKHH344oTgV4g+JDZeifaCrsU/9CD/iCu1v3LhxpadG63877rijr2lMhQhH/fbVjz/+6EtISxyOnTt3djPPPHPp//qqU199omWa+/ioIiIcs4cnx6YKEY56cvnhhx98CWnRzxU0ePSzB/3cQP75z3+6nXfeubRei35+oZ9joDaNGI7IjvhnjhrLGtMoSDjq6eX777/3JaRFP1jXD9GTXHfddaXfeNMA47dVa0c4or1ojM4666ylMauxqzGM3+gXhfSLSW0htXDUZPzdd9/5EtqL/laKv3NsmVrCUfVqz5B9yr7+DcuiT+23e6Al/tml9qdtwk/qHzt2rK91pf+Hr9eSJKyPv0Vq3zq1RccLJa0Tu1ZbktpGx9ISH4MPya5NHv7OMQsKEY766ufbb7/1JbQ33iGndpr8kwIgZGEVhonKYSBZ0GlfYUhoG60PA9ICKOm4ceiKhW24D5XD89H/7TUWWvF5hAEcv160LrwmsXMN2TWF65POG03xDjm1K0Q46gfJ33zzjS8hC3hv1drY5B8v8VOQBZQCJimsLBzi11mwhuvtmOHrjdbHoSXhegu/SkFkxwzDMBYfx64pVilok7bVdcXhiv/De6u2XCHCcbbZZnNff/21LyFL+FSO6jSha6mFTWxa4mCycEwKJK0PQ6NSiFioJYVe/BqVK20rqqt0PqK6MBwrnZPEdfq/1sWq7aOR8akcU6cQ4ahfPf7qq698CVnD5zlWpgk9aaJPYgGoJVYtHOPQqBQiFo6Vlvg12k+lOglfGz+NxuuStjHx+er/SW2mdUnrGxWf59g6hQhHvf8df4Ceffo0cn0quQaq3g9Xn1be6FoyoavdtG1SkDT35FjLU1q1J8dq9C3PpHMyWq/68Fuj8fYqJ52TxOdLODZPY0tjTO2qMaexh5YpRDjq15C/+OILX0KWffnll65Xr16lQWsT4htvvOFrG0+tE7raSe0lFjZhEFo4VvqZYxh4Ol6lINK2lUKummr7lHi/cTm8vpCdf/wzx6Q2q7Uti0xjydpSi8aaxhxarhDhOOecc7rPP//cl5AHI0aMcAsuuGB5EJ933nm+prHUMqFb8IUBp3L4OttGSxgk2kbrQlpXKcjsKTA8lmh7W6dtwmCLf2lGdeE5JAW0yuE+bJv4vLQubh/CMZnGkNpLi94GTmMMU68Q4ahfSeZ76fmjnxPvt99+5QG98cYbu1dffdXXNobwq/x4sSdD/T8ODQtDCyEr6zXhPiuFSLy/kO0rXMJgk/i8w6ATHSOsD8NSkl4j4WsqbaNjV7qupPVFpzGjsWNtpjHF72C0nt7wRJ9I0hZSC8e5557bffbZZ76EvLntttvcIossUh7c8USK5oXhiMahsWLjRmNIYwn1UYhw1K8n8zc7+fbf//7XHXjggeWBvsEGG1R8qzo0RTg2Fo0NjREbLxo7GkOon0KE43zzzec++eQTX0Ke3XnnnaXv89ugP/vss30NqiEcG4fGhI0PjRWNGdRfIcJx/vnn570BC0Tvk3vQQQeVJ4D111/fvfjii74WSQjH4tMY0FiwcaExwntKp6cQ4ai/4/n44499CUVx1113TfGLHWeccYavARqL+r6NA40JjQ2kqxDhqD8J+Oijj3wJRaIPsT7kkEPKE8M666zjnnvuOV8LFJv6uvq89X+NBT7YvW0UIhz1Nz0ffvihL6GI7rnnHrfUUkuVJ4mBAwf6GqCY1Metvy+55JKlMYC2U4hwXHjhhd0//vEPX0JR/fzzz65v377lCWOttdZyzzzzjK8FikF9Wn3b+rn6vPo+2lYhwlF/3/PBBx/4Eoruvvvuc0svvXR58hgwYICvAfJNfdn6tfq4+jrax5gxY1y3bt18KV2pheOiiy5aeqsfNI5ffvnF9evXrzyRrL766u6pp57ytUC+qO+qD1t/Vt9WH0f7KUQ4LrbYYokf3Irie/DBB91yyy1XnlROOukkXwPkg/qs9V/1ZfVptL9ChOPiiy/u3n//fV9CIzrqqKPKE0zXrl3dk08+6WuAbFIfVV+1fqs+jOwoRDjq737ee+89X0KjGj16tPvzn/9cnmxOOOEEXwNki/qm9VP1WfVdZEshwnGJJZZw7777ri+h0R199NHliWfllVcudXIgC9QX1Setf6qvIpsKEY76+7d33nnHlwDnHn300dKvYdskdOyxx/oaoH2oD1p/VN9UH0V2FSIcO3fu7N5++21fAn5z3HHHlSekFVdc0T3yyCO+Bmgb6nPqe9YP1SeRfYUIR/090FtvveVLwJQef/xxt8oqq5Qnp/79+/saIF3qa9bv1AfVF5EPhQjHZZZZxr355pu+BCQ78cQTyxOVfgni4Ycf9jVAfalvhb8cpr6HfBk5cqTr0aOHL6UrtXDU3wa98cYbvgRUpl+fX3XVVcuT1pFHHulrgPpQn7L+pb7GnxXlUyHCcfnll3evvfaaLwHNO/nkk8sT2LLLLuseeOABXwNMHfUh9SXrV+pjyK9ChKO+ffHqq6/6ElCbp59+2q2xxhrlyezwww93kydP9rVAbdRn1HesH6lPqW8h3woRjiussIJ75ZVXfAlomVNPPbU8sek3n3mzZ9RKfUV9xvqP+hKKoRDhqL8Z0seLAFPr2WefneJjgg477DD3008/+VpgSuob6iPWX9R31IdQHIUIx5VWWsm99NJLvgRMvdNOO6084ekDZkeNGuVrgP+jPqG+Yf1EfQbFU4hw1Nsxvfjii74EtM7zzz/v1l133fLkd/DBB7sffvjB16JRqQ+oL1i/UB9RX0ExFSIc9ce1L7zwgi8B9XHmmWeWJ0J98osGCxqT7r36gPUH9Q0UWyHCUR/7wldwSIO+Xa93ybBJsXfv3u67777ztSg63Wvdc7v/6gv8CKcxDBs2zPXs2dOX0pVaOK622mruueee8yWg/gYNGlSeIDt27OjuuOMOX4Oi0j3Wvbb7rj6AxlGIcFx99dXdM88840tAOvQb0RtuuGF5sjzggAPcN99842tRFLqnurd2n3XP+W34xlOIcNQf3Y4bN86XgHSdc8455Ylz4YUXdrfeequvQd7pXuqe2v3VvUZjKkQ4rrnmmrwjBdqU3q5wk002KU+i++67r5s0aZKvRd7o3uke2v3UveUtKRtbIcJx7bXXdk899ZQvAW3n/PPPL0+oCyywgBsxYoSvQV7onune2X3UPQUKEY7rrLMO73yPdqOPS+vevXt5ctWA+uKLL3wtskr3SPfK7pvuIR99B1OIcNQf4z7xxBO+BLSPIUOGuGmnnbY00c4///zu5ptv9jXIGt0b3SPdK90z3TsgVIhwXG+99fiEbWTC22+/7bbYYovy08hee+3lPvvsM1+L9qZ7oXti90f3SvcMiBUiHPWHuWPGjPEloP1dfPHFboYZZihNwPPMM4+78cYbfQ3ai+6B7oXuyfTTT1+6R0Al+m5Cv379fCldqYXjBhts4B599FFfArLh3XffdVtvvXX5KWX33Xd3n376qa9FW1Gbq+3tPuie6N4A1RQiHPVHuo888ogvAdly6aWXuplmmqk0Mc8111zu+uuv9zVIm9paba621z3QvQBqUYhw3Gijjdzo0aN9Ccie999/32277bblp5ddd93Vffzxx74W9aa2VRtbe6vtdQ+AWhUiHPUHuw8//LAvAdl1xRVXuFlnnbU0YXfo0MFde+21vgb1ojZV26qN1dZqc6ClChGOm266qXvooYd8Cci2iRMnuu233778VLPTTju5Dz/80NdiaqkN1ZbWrmpjtTUwNQoRjvrj3QceeMCXgHy4+uqr3WyzzVaayPXv0KFDfQ1aSm03++yzl9tSbQu0RiHCcbPNNnP333+/LwH5oaedHXfcsfy0s8MOO7gPPvjA16I5aiu1mbWf2pKncNRDIcJx8803d/fdd58vAflzzTXXuDnmmKM0wf/+9793V155pa9BJWojtZXaTG2nNgTqpRDhuOWWW7p7773Xl4B8+uijj9wuu+xSfgrq0aOHmzBhgq+FUZuobayd1GZqO6CeBgwYUFraQmrhuNVWW7lRo0b5EpBvetuqOeecszTxzzzzzO6yyy7zNVBbzDLLLKW2URuprYA0FCIc9Y4Xd999ty8B+ffJJ580eVeX9957z9c2Hl17/G5DaiMgLYUIx2222cbdddddvgQUxw033ODmnnvuUiDMOOOM7pJLLvE1jUPXbO9Tq7ZQmwBpK0Q46ucPI0eO9CWgWP7973+7Pffcs/zUpJ+x/+1vf/O1xaVr1LXadasN1BZAWyhEOG633Xbujjvu8CWgmG666SY333zzlYJiuummcxdeeKGvKR5dm65R1zrvvPOWrh1oS4UIR70Txu233+5LQHF9/vnnbp999ik/TelvfIv06fW6Fl2TXZ+uVdcMtLVChKP+CPi2227zJaD4hg8f7hZYYIFyiFxwwQW+Jr90DXY9ujZdI9BeChGOej/FW2+91ZeAxjBp0iTXq1evcqDoPYZff/11X5sfOmedu12HrknXBrSnQoTjzjvv7P7617/6EtBY1PcXWmihcrice+65vib7dK523roGxjGyQu+Oo3fJaQuphaPeIYNvwaCRff31127//fcvB40+4/SVV17xtdmjc9M52vnq3HUNQFYUIhz1oaa33HKLLwGNS7+Ytuiii5ZDZ9CgQb4mO3ROdn46V36ZDllUiHDcbbfd3M033+xLQGP79ttvXe/evcsB1K1bN/fyyy/72vajc9C52HnpHHWuQBYVIhz32GMP/g4KiNx5551uscUWK4fRWWed5Wvano5t56Fz0rkBWVaIcNQ7Z9x4442+BMB8//33rk+fPuVgWm+99dwLL7zga9OnY+mYdnydi84JyLpChONee+3F+y0CVeiN+ZdYYolySJ1++um+Jj06hh1Px+bDAZAnhQjHvffe211//fW+BCDJ//73P3fooYeWA2vttdd2zz77rK+tH+1T+7bj6Jg6NpAnhQjHnj178rluQI30weCdO3cuh9fAgQN9TetpX7bfpZZaig8hR261Za6kFo56R43rrrvOlwA0Z/Lkya5v377lIFtzzTXduHHjfG3L6bXah+1P+9YxgLwqRDjuu+++7pprrvElALW6//773TLLLFMOtVNOOcXX1E6vsddrX9onkHeFCMf99tvPDR061JcAtMSvv/7qjjjiiHLArbbaam7s2LG+tjJto23tddqH9gUUQSHC8YADDnBXX321LwGYGg899JBbfvnly2F34okn+pqmVGfb6TV6LVAkhQjHAw880F111VW+BKA1+vfvXw6+rl27uieeeMLXuNL/tc7qtS1QRIUIR70N1RVXXOFLAFpr9OjRboUVViiH4PHHH19arKw6bQMUVSHC8aCDDnKXX365LwGol2OOOaYciLZoHVB0hQjHgw8+2F122WW+BKCeHnvsMbfSSiu5+eefv/R/oBEUIhwPOeQQd+mll/oSgHrTJ/N36NDBl4Di69Gjhxs5cqQvpSu1cNTbU1188cW+BKDeCEc0mkKE42GHHeYuuugiXwJQb4QjGk0hwlFvVXXhhRf6EoB6mzhxouvYsaMvAcVXiHBsy3dPBxoR4YhGU4hw1NtWXXDBBb4EoN4IRzSaQoTjkUce6c477zxfAlBvhCMaTSHC8aijjnLnnnuuLwGoN8IRjaYQ4Xj00Ue7c845x5cA1Nv48eNdly5dfAkovkKEo97OavDgwb4EoN4IRzSaQoTjscce684++2xfAlBvhCMaTbdu3dyYMWN8KV2pheNxxx3nzjrrLF8CUG+EIxpNIcLxhBNOcGeeeaYvAai3eoVjp06dmnzKR7z06dPHbw20n0KEoz6V/IwzzvAlAPWmSUKTRb0pDLt37+5LQHYUIhxPOukkd9ppp/kSgHojHNFoChGOJ598shs4cKAvAag3whGNphDhOGDAAHfqqaf6EoB6a49w1HotY8eOLW2nZfjw4eU6lWNar59rxvRzTNuHFn6uieYUIhwVjApIAOlor3C0MIu1JByTtq12XEAKEY76luopp5ziSwDqTX8MrT+KrrdqIWWhpifHWFLgidaH4agnzaR9VFoPmEKEo34ZR7+UAyAd7RWOSd8ilVrD0b6dGrNv1dq3aYGY/nRJf8LUFlILx9NPP7305xwA0pH3cKy0EI6opBDhqDcA0BsBAEhH1sKx0hNhpXAEWqoQ4ai3jjv++ON9CUC9DRs2zPXs2dOX6qfe4ah14Wv42SKmViHCUW86rjcfB5COrIWj/cww/DQeleNwFJW1PjRhwoQm64BQIcJx0KBBpY+tApCOrIWj2FOhLQpMPVEmvUb7CrfVAlRTiHDUBx3rA48BpCOtcASyqhDheO6557r+/fv7EoB6IxzRaAoRjuedd5476qijfAlAvQ0ZMsT169fPl4Di69ixo5s4caIvpSu1cDz//PPdEUcc4UsA6o1wRKMpRDgycIF0McbQaAoRjhdeeKE7/PDDfQlAvRGOaDSFCMeLLrrI9e3b15cA1BvhiEZTiHC8+OKL3aGHHupLAOqNcESjKUQ4XnLJJe6QQw7xJQD1ps9L5TNT0UgKEY6XXXaZO/jgg30JQL0Rjmg0hQjHyy+/vPS2UQDSQTii0RQiHK+44grXu3dvXwJQb4QjGk0hwvHKK690Bx54oC8BqDf9Mo5+KQdoFB06dHCTJk3ypXSlFo5XX321O+CAA3wJQL0Rjmg0hQjHoUOHuv3339+XANQb4YhGU4hwvOaaa9x+++3nSwDqjXBEoylEOF577bWuV69evgSg3vRxVfrYKqBRFCIc+aw5IF2EIxpNIcLx+uuvd/vss48vAag3whGNphDheMMNN7i9997blwDUG+GIRlOIcLzxxhvdnnvu6UsA6o1wRKOZZprUIquJ1I500003uT322MOXANQb4YhGU4hwvPnmm93uu+/uSwDqrUePHm7kyJG+BBRfIcLxlltucbvttpsvAag3whGNphDhOHz4cLfLLrv4EoB6IxzRaAoRjiNGjHA777yzLwGoN8IRjaYQ4Xjrrbe6nXbayZcA1BvhiEZTiHC87bbb3I477uhLAOqtW7dubsyYMb4EFF8hwvH22293O+ywgy8BqDfCEY2mEOF4xx13uO22286XANQb4YhGonfG0TvktJXUwlE/C9HPRACkg3BEIylMON51111u22239SUA9dalSxc3fvx4XwKKrTDhePfdd7ttttnGlwDUG+GIRlKYcBw1apTbaqutfAlAvRGOaCSFCcd7773Xbbnllr4EoN4IRzSSwoTjfffd57bYYgtfAtAa+vSNAQMGuCFDhpSXjh07ltapLlyAIipMON5///1u88039yUAraHQ0994NbfwG+IoqsKE4wMPPOC6d+/uSwBaS0+KSYEYLvxpB4qqMOH40EMPuU033dSXALRWc0+PPDWiyCZOnFj6ArGtpBaODz/8sNtkk018CUA9VHt65KkRRVaYcBw9erTbeOONfQlAPVR6euSpEUVXmHB85JFH3EYbbeRLAOpBP3dJenrkTzpQdIUJx0cffdRtsMEGvgSgXuKnx549e/oaoLgKE476+YfeGBlAfYVPj/rtPZ4a0QgKE46PP/64W3/99X0JQD3pj/8Vjv369fNrgGIrTDg+8cQTbr311vMlAPVkf/OlCQNoBIUJxyeffNKts846vgSg3ghGNJLChONTTz3l1l57bV8CAGDq6WfrerP9tpJaOD799NNurbXW8iUAAKZeYcJx3Lhxbs011/QloKnwzxFYWLK0IHsKE47PPPOMW2ONNXwJaCppUmJhycKC7ClMOD733HNutdVW8yWgKSYiZA19MrsKE47PP/+8W3XVVX0JaIqJCFlDn8yuwoTjCy+84Lp27epLQFNMRMga+mR2FSYcX3zxRbfKKqv4EtAUExGyhj6ZXYUJx5dfftmttNJKvgQ0xUSErKFPZldhwrGtLwT5w0SErKFPZldbf5hFar3glVdecSuuuKIvAU0xESFr6JPZVZhwfPXVV90KK6zgS0BTTETIGvpkdhUmHF977TW3/PLL+xLQFBMRsoY+mV2FCcc33njDLbfccr4ENMVEhKyhT2ZXYcLxzTffdMsuu6wvAU0xESFr6JPZVZhwfOutt9wyyyzjS0BTTETIGvpkdhUmHN9++2239NJL+xLQFBMRsoY+mV2FCcd33nnHLbXUUr4ENMVEhKyhT2ZXYcLx3XffdUsuuaQvAU0VfSIaPnx46fr0b1vr3r17uX0HDx7s19bH2LFjW3Vdem2fPn18KVuszZA9I0eOdD169PCl9KXWC9577z23xBJL+BLQVHtMRJqU7bjhogm/3torHBWGOm5aWhKOFtITJkzwawhHTJ3ChOP777/vOnXq5EtAU+0xEdlkHbLArHeItVc4atzpOtNCOKI9FCYc//73v7vFFlvMl4Cm2mMiSgpH0bp6BwrhmEyvJRzRUoUJx4kTJ7qOHTv6EtBUe0xElcIxjUBpr3DUMQnHqaNz04LsKUw4fvDBB27RRRf1JaCp9piIKoWj1iVN2BZw4VIpFMJtdJw4HCsdW99y1PrmfnHGfpYYLuHPSpPqtSSxbyWH3+4UfZGQ9OMQbWvtE4ZjfMyYHSekclJb67jhviq1c5rs2MiewoTjP/7xD7fIIov4EtBUe0xESQFVKShs4g8DyAIvDjKtC0MlDA2b5O218aRv28bHDyWdo70u3p/WNffkmPT0ZyEdHyfe1spawnZICtZaw1HrwnO2Y8TtnDYdMz5fZENhwvHDDz90Cy20kC8BTbXHRGThGC9xmFhQJE3O8YRfKdxsuzCAko6lQKkWZklBZvS6OJCSjpFE24Uhpf1bwIXXbddnKgWXXq/1qje1hGPSNlJpfZp0vLY+JmpTmHD86KOP3IILLuhLQFPtMREpNJKOGZ9L0kRv4rqkgBLbTv8am/AtSKsFn6kUvpJUp3It4RiHj8ran/4NX6//h+VK5xy3iyQFnMpabyp9cVDtutOi48Xni2wYNmyY69mzpy+lL7Ve8PHHH7sFFljAl4Cm2mMi0iScdEyb8O1pqNrEHIeA9llrOFY6TjVJAWOSzlPlpLCJ2bnYdega9H87b9F+9f+kawjXSdL11hqOWldpIRwhhQnHf/3rX+5Pf/qTLwFNtcdEVCkcLQRs0rbQseAIWQhYXUvCUbStba9/w6BIYgGTFBKtCUfRttqHXb/R/+OgNGmEY63nmzadW3y+yIZChOOAAQPcdNNN5373u9+5WWaZxc0222yuQ4cObu6553bzzTdf6YlSv6yjv4PUu+joDcr12Y8rrLCCW3nlld2qq67q1lxzTbfOOuu49ddf32200UZu0003dZtvvrnbeuutS9933mGHHdwuu+zidt99d7f33nu7Xr16uf33398ddNBB7pBDDnF9+/Z1Rx55pDv66KPdcccd50466aTSeZ1++unurLPOKk0I559/vrvwwgvdJZdc4q644gp39dVXu+uuu87dcMMN7qabbnIjRoxwt912m7vzzjvdqFGj3H333ecefPBB98gjj5Te50+TxLhx49xzzz3nXnrpJffKK6+4119/vfSm63r7PE04+sUkfYv5008/df/5z3/cl19+6b755hv33XffuR9//NFNnjzZt1rjaY+JqFI42oSvfpFUDsX7qBRetr5SiFiw6VjVJIWOCYPWaNtaw0bnqG217/A1+r/qrD5U73BM2qa96Dyyci6YUqG+rTrPPPOUQuDrr78uhcJnn33mPvnkk1JY6E89NJkoRPTxVgoVhcuLL75YCpunn37aPfnkk6UQGj16dCmUFE533313KaxuvfXW0iBUiF1//fXu2muvLYXb5ZdfXgo7hd55551XmoDOPPNMd9ppp5XC8cQTTyyFpULziCOOKIWowrR3796lcFXj77XXXqXQ3XnnnUshrDDeaqutSuGskN5www1Lob322mu7NdZYoxTmK620UincFfKdO3cuhb7+znPhhRcufTEw77zzurnmmqv0RcIf/vCH0hcNM844o5t22mlLg3H66ad3M800k5t11lnd7LPP7v74xz+WvpiYf/75Sz+71RcTiy++eOn9avVRYMsvv7xbccUV3SqrrOJWW2210hcT6667bumNeTfeeOPShLbFFlu4bbbZxm233XZuxx13dLvuuqvbY489Sl9M7Lvvvu6AAw4oTUyHHnqoO/zww91RRx3ljjnmGHf88ce7k08+2Z166qmlLybOPvtsd84557gLLrjAXXTRRe7SSy91V155pRs6dGjpi4kbb7zR3XzzzaUvJm6//fbSD87vueced//997uHHnrIPfroo+7xxx8vTarPPPOMe/75593LL7/cLhOR2iXpmAqYeL1tG4aXBVoYAPbUFYaITfjxtsbq4mCrxM4vDGA7RhyuWhcHWiUWaNo+/EJA/7fgjc+/3uGY1H6i/dR6HfWi84jPF9lQmHCUxx57zP8P1fz666/up59+cj/88IP79ttv3VdffeW++OKL0hcT+vb0P//5z9KbKugt+fRpJ/og6ddee82NHz/evfDCC+7ZZ58tfTHxxBNPlNr84Ycfdg888IC799573V133eXuuOOO0hcTt9xyi/vLX/5S+mLimmuucVdddZW77LLL3MUXX+yGDBnizj33XDdo0KDSFxMDBw50p5xySumLiWOPPdb179/f9evXzx122GHu4IMPdgceeKDbb7/9Sp11zz33dLvttpvbaaed3Pbbb++23XZbt+WWW7rNNtvMbbLJJm6DDTZw6623XumLidVXX9117drVdenSpV0mojC0wqXSJGxhGC7xE6LYBG+LjmPr4hARO48wkJqTdO5JtL4loWL7CkM2vJ74eusdjkbrw6Wtg1Hs2MieQoUjUE0jT0QWuvFTH9oX4ZhdhCMaRiNPRPYtS2QL4ZhdhCMaRqNORPZtyaRvLaJ9EY7ZRTiiYTTqRMS3VLOLcMwuwhENg4kIWUOfzC790qB+KbCt0AvQbpiIkDX0yewiHNEwmIiQNfTJ7CIc0TCYiJA19MnsIhzRMJiIkDX0yewiHNEwmIiQNfTJ7CIc0TCYiJA19MnsIhzRMJiIkDX0yewiHNEwmIiQNfTJ7CIc0TCYiJA19Mns0kcOamkr9AK0GyYiZA19MrsIRzQMJiJkDX0yuwhHNAwmImQNfTK7CEc0DCYiZA19MrsIRzQMJiJkDX0yuwhHNAwmImQNfTK7CEc0DCYiZA19MrsIRzQMJiJkDX0yuwhHNAwmImQNfTK79O44epectkIvQLthIkLW0Cezi3BEw2AiQtbQJ7OLcETDYCJC1tAns4twRMNgIkLW0Cezi3BEw2AiQtbQJ7OLcETDYCJC1tAns4twRMOwiYiFJWsLsodwRMNImpRYWLKwIHt69uzphg0b5kvpoxcAADKPcAQAIEI4AgAQIRwBAIgQjgAARAhHAAAihCMAABHCEQCACOEIAECkR48ebuTIkb6UPsIRAJB5hCMAABHCEQCACOEIAECEcAQAIEI4AgAQIRwBAIgQjgAARAhHAAAihCMAAJFu3bq5MWPG+FL6CEcAQOYRjgAARAhHAAAihCMAABHCEQCACOEIAECEcAQAIEI4AgAQ6dKlixs/frwvpY9wBABkHuEIAECEcAQAIEI4AgAQIRwBAIgQjgAARAhHAAAihCMAABHCEQCASMeOHd3EiRN9KX2EIwAg8whHAAAihCMAABHCEQCACOEIAECEcAQANDHNNNO4Pn36+FLjIRwBICOGDx9eCqWkZfDgwX6r5k2YMKH0mu7du/s1LafXN0o4Dhs2zA0YMGCKpUOHDq5fv35uyJAh5UXbpYVwBIAKFIAKpbFjx/o1U4dwbBmFnq63uaVnz57+FfVHOAJABfUKx0q071oDryXbFoG+jWohmLToSTLNd8whHAGgAsKx/TT39JjmU6MQjgBQQS3haNvo55MhrQu/jaqyhZv+VTleqh1H9Unh2KlTpyn2oXIS7TvcTovOPWTf/tW28c9b4+tL26RJkyo+Pab91CiEIwBUUOuTowWUsfBT2BiV43BLWldJpdfHP8eMz0Us6MKAs7AM92nhqH2E+630BUDaKj096hdz0kY4AkAFFgrxEj+dhUFj/4+fyqw+lLSuknhb/V/rYhZw4fErHceuz0LcXpv0i0OV1qcp6elRT41t8ScdhCMAVGDh0dyTo1hYaakULnFAJa2rJN42froLhXUW1klPfXFdUrAa7U91bS1+emyLp0YhHAGggpaEo9gEnhREWl/PcKz22jAcdS7aNukaWhKOOpbq2lr49NhWT41COAJABVPz5KhgSgoRrYvDLGldJfG2Ktfy5GjhmBTYLX1y1H7bg94EQOelf9sK4QgAFdQajmEAWeDUEoRJ6yqJt630bU47vgWcBV7ScbROddpGbNuk0K20j7agp8cuXbrw9nEAkAW1hmMcKBY64euSwkVPYrU+jcWvtxCMg0zr4n3a+YRPjxbo4VOihWO836TraWttGYxCOAJABRYgSYsFlQWHPX0ZrQtDKnyNCcMoaR+hpNdL+PpK20jStcRhZ+ejwLQvDGypdm5FRDgCAErCcGx0hCMAoIRw/A3hCAAoIRx/QzgCAEoIx98QjgAARAhHAAAihCMAABHCEQCACOEIAECEcAQAIEI4AgAQIRwBAIgQjgAARAhHAAAihCMAABHCEQCACOEIAECEcAQAIEI4AgAQIRwBAIgQjgAARAhHAAAihCMAABHCEQCACOEIAECEcAQAIEI4AgAQIRwBAIgQjgAARAhHAAAihCMAABHCEQCACOEIAECEcAQAIEI4AgAQIRwBAIgQjgAARAhHAAAihCMAABHCEQCACOEIAECEcAQAIEI4AgAQIRwBAIgQjgAARAhHAAAihCMAABHCEQCACOEIAECEcAQAIEI4AgAQIRwBAIgQjgAARAhHAAAihCMAABHCEQCACOEIAECEcAQAIEI4AgAQIRwBAIgQjgAARAhHAAAihCMAABHCEQCACOEIAECEcAQAIEI4AgAQIRwBAIgQjgDaTPfu3d0000xTWgYPHuzX1sfYsWNL+x0+fLhf0zJ6bZ8+fXypdTp16lS6VuQX4YjU2aSVtNhEpn9VrveE2Qg0oavt1M5Zpnur80xLS8LRQnrChAl+DeGIKRGOSJ0FX7VJi3CcenkJx7QDg3BEPRGOSF0t4Yjm5X3CzVI4JiEcESIckTrCsT7yPuGqDxCOyAvCEamrJRwrTWz2LcN4qTbx6Ftl2kYTVCxpf+G31kTf2rXX6jjhtkns+mxJOq7W6djhtuG3QePjhJO0/awuXqytrD6+DmvTcIm/bW1tpX3Fx4n3V0nS+YXXVun8k9j9iY+t9ktqV21rbRX2ofiYMTtOSOWw3Y2OG+7L2r0avSapj9pxw6VSO8fbJe1Px9G12n20Jek60DKEI1JngVBtUkkKx3gCs200GVRjE0U8mVoAhewY8WRuE2J4PrYuZJNw+Pqk49hr43OS+PXWXvF16rVJE6SdQzjJJrW5tV84cYaTarg+6RqSWPuFx7bzCY8tWpd0/iE7x/C14TmGx4m3tbKWsO3UbnG7x31LVA7bQLQuPGc7RnxvYkn3KqlN7Ty0X2PXm3Qu8XXYtYX7tXOMX4+Wab73A61kE3XSYpNdPNGJyrUGRHPsHMJJyMT7rDS52z5svU1i8TkmrbcJLJzcq0m6zkrXbucb7lvlpMkx3tbONd426X7Eqm2j89T5hrRtLfcuPh/tX/vSErapXYux8wm3Ebtv4b3X/sPXSnzcpG2k0vpQfK+SzsHE2ya1nSS1t7ZLOhfto7lzRHW0HlJnE0M4qGNJA1/leKKLJ5JaVZvQ4ro4QEwcJNUmvHA7ael5a/t4gqy0j/h8k9rSxHV2TXE7V9uHqdROklSnci1tEN8PlbU//Ru+Xv8Py5XOOek+xccQlWu5Z9Wu28SvTTqeievi8wi19BzDa0bLJN8toI5scqo20SZNbPGkUct+KtEEEoeNiY9TbfLTepuc7HwqLbVMYibp9fH5NjcR2vnaeSVNjHE76zUqax8h2y5eH4rbLZTUhipXawNjx7bz13Xr/3ZdYucd9oX42oy9LlyfdO4qx/dM6yotSf3DxPeq1v5X6X4Y1dXSr+yarQ3Rcsk9G6ijpMkpljSxJU1O1fZRjSYQvT5JPFEmTewST1wtmYAqTWK2z7hO28eTaaV9xOdbrb3jdq40Gdt2lSZpsXaL20mS2lDlpPNPYse28zP6v87NrjGU1IckqT3iey4q1xI8tYhfq//HxzPhudj1hucRqvUck9ofLZN8t4A6SpqcYvHEZuV6DW6bLLTfmNaHE4xtG5+vXYftwyYybd+cSpNYvE+j7bWEap0Iq02wNhHH28bXYO1f7drs3ON2kqTz17ZJ559E56ltte/wNfq/6qw+ZOccn0/SeVo7hFTWepO0Ta3ie2X3qJb+l9R2knQd2i7pHLW/pH2gdoQjUpc0qGPxxGblpCVpggnZhB9PDvb6kCYRrbOwEJvItITnrHK8T5tA43PSduE6lePJXOw6wxCyfcbHsnON2fmG12D7CM/f7kN4rNaEo+gcKx07bhOtS2qDJHau2j48B/1fx9QSXpvYOcfrbV/h+qTgU1nrjbVNfM7aT3PXkXS/ta/4mNpG68L2s/Ot5Vys/cP92uubu3eorulIA+osaXKKJU1sGtzxAFe5uX3ZRKKJI2aTkS1J29gxtJ9w8qk0Idr24RIHQ9Jkaax9bNGkqCXp3MLt7Bjh+Ybi/YavMdZWcTvb/YjXJ7GgCZckWl+pDZLYvsJztvPVEl+vnXPcN6wdwvV2ziGVw0AyWh8utVxDpfutdeG+ku6xhNdpS9K9sOPYtdsStwFajnBEJtmElkTrkyaxeqkUNkDWVPuiC61DOCKTkr6yl0pPOvVEOCIvCMf0EI7IJAuoOATt21JpBhfhiLwgHNNDOCKz7Fur4VLpZzT1RDgiLwjH9BCOAABECEcAACKEIwAAEcIRAIAI4QgAQIRwBAAgQjgCABAhHAEAiBCOAABECEcAACKEIwAAEcIRAIAI4QgAQIRwBAAgQjgCABAhHAEAiBCOAABECEcAACKEIwAAEcIRAIAI4QgAQIRwBAAgQjgCABAhHAEAiBCOAABECEcAACKEIwAAEcIRAIAI4QgAQIRwBABgCs79P23nVu33UABeAAAAAElFTkSuQmCC)\n",
        "\n",
        "**Example: Python while Loop**"
      ]
    },
    {
      "cell_type": "code",
      "metadata": {
        "colab": {
          "base_uri": "https://localhost:8080/"
        },
        "id": "B8qBRM0andUg",
        "outputId": "edbfe835-2205-4d52-b1ea-bbb96514d5c5"
      },
      "source": [
        "# Program untuk menjumlahkan semua\n",
        "# bilangan asli hingga suku ke-n\n",
        "# jum = 1+2+3+...+n\n",
        "\n",
        "n = 10\n",
        "jumlah = 0\n",
        "i = 1\n",
        "\n",
        "while i <= n:\n",
        "  jumlah = jumlah + i\n",
        "  i = i + 1\n",
        "\n",
        "print(jumlah)"
      ],
      "execution_count": null,
      "outputs": [
        {
          "output_type": "stream",
          "name": "stdout",
          "text": [
            "55\n"
          ]
        }
      ]
    },
    {
      "cell_type": "markdown",
      "metadata": {
        "id": "MLPp5QcQoAz_"
      },
      "source": [
        "###**While loop with else**\n",
        "Sama dengan `for` loop kita juga dapat mengkombinasikan `while` loop dengan blok `else`.\n",
        "\n",
        "Bagian `else` akan dieksekusi jika nilai pada `test expression` pada `while loop` bernilai `False`. Perhatikan contoh berikut:"
      ]
    },
    {
      "cell_type": "code",
      "metadata": {
        "colab": {
          "base_uri": "https://localhost:8080/"
        },
        "id": "sFiq0SApowUw",
        "outputId": "d828e94f-254b-427d-ebf6-0f7f48534f46"
      },
      "source": [
        "jum = 0\n",
        "i = 1\n",
        "while i <= n:\n",
        "  jum = jum + i\n",
        "  i = i + 1\n",
        "else:\n",
        "  print(jum) # dieksekusi diluar looping"
      ],
      "execution_count": null,
      "outputs": [
        {
          "output_type": "stream",
          "name": "stdout",
          "text": [
            "55\n"
          ]
        }
      ]
    },
    {
      "cell_type": "markdown",
      "metadata": {
        "id": "8jDYWoaJpKso"
      },
      "source": [
        "###Latihan 1"
      ]
    },
    {
      "cell_type": "markdown",
      "metadata": {
        "id": "oUqjFddrpNkL"
      },
      "source": [
        "Diberikan `list_tagihan`. Kamu diminta untuk menghitung jumlah seluruh tagihan!. Gunakan looping `for` untuk menyelesaikan tugas ini!\n",
        "\n",
        "Simpan hasinya pada variabel `total_tagihan`!\n",
        "\n",
        "```\n",
        "list_tagihan = [50000, 75000, -150000, 125000, 300000, -50000, 200000]\n",
        "```"
      ]
    },
    {
      "cell_type": "code",
      "metadata": {
        "colab": {
          "base_uri": "https://localhost:8080/"
        },
        "id": "guRjpHXcqFR7",
        "outputId": "79d85c30-0b5e-4fd6-f3fb-cc15414ef534"
      },
      "source": [
        "list_tagihan = [50000, 75000, -150000, 125000, 300000, -50000, 200000]\n",
        "total_tagihan = 0\n",
        "\n",
        "for i in list_tagihan:\n",
        "  total_tagihan = total_tagihan + i\n",
        "print(total_tagihan)"
      ],
      "execution_count": null,
      "outputs": [
        {
          "output_type": "stream",
          "name": "stdout",
          "text": [
            "550000\n"
          ]
        }
      ]
    },
    {
      "cell_type": "markdown",
      "metadata": {
        "id": "8i3tP9tFqMmO"
      },
      "source": [
        "###Latihan 2"
      ]
    },
    {
      "cell_type": "markdown",
      "metadata": {
        "id": "4KyJpZ2aqO_6"
      },
      "source": [
        "Diberikan list `tagihan` hitunglah `total_tagihan` menggunakan `while loop`.\n",
        "```\n",
        "tagihan = [50000, 75000, 125000, 300000, 200000]\n",
        "```"
      ]
    },
    {
      "cell_type": "code",
      "metadata": {
        "colab": {
          "base_uri": "https://localhost:8080/"
        },
        "id": "4C-NaMfxaJPR",
        "outputId": "86932d2d-212b-4466-d5c4-a86ff06a23f2"
      },
      "source": [
        "tagihan = [50000, 75000, 125000, 300000, 200000]\n",
        "i = 0\n",
        "total_tagihan = 0\n",
        "while i < len(tagihan):\n",
        "  total_tagihan = total_tagihan + tagihan[i]\n",
        "  i = i + 1\n",
        "print(total_tagihan)"
      ],
      "execution_count": 2,
      "outputs": [
        {
          "output_type": "stream",
          "name": "stdout",
          "text": [
            "750000\n"
          ]
        }
      ]
    }
  ]
}